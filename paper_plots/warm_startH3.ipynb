{
 "cells": [
  {
   "cell_type": "code",
   "execution_count": 4,
   "metadata": {},
   "outputs": [],
   "source": [
    "import matplotlib.pyplot as plt\n",
    "\n",
    "plt.rcParams['text.usetex'] = True\n",
    "plt.rcParams['text.latex.preamble'] = r'\\usepackage{amsfonts}'\n",
    "\n",
    "allowed_color = 'Green'\n",
    "polylog_color = 'Black'\n",
    "noyhat_color = 'Orange'\n",
    "giantstep_color = 'Blue'\n",
    "notallowed_color = 'Red'\n",
    "processnotdefined_color = 'Purple'\n",
    "sweetspot_color = 'cyan'"
   ]
  },
  {
   "cell_type": "code",
   "execution_count": 5,
   "metadata": {},
   "outputs": [
    {
     "name": "stderr",
     "output_type": "stream",
     "text": [
      "100%|██████████| 100000/100000 [03:54<00:00, 426.73it/s]\n",
      "100%|██████████| 100000/100000 [00:06<00:00, 14335.07it/s]\n",
      "  0%|          | 192/100000 [00:21<3:09:57,  8.76it/s]\n"
     ]
    },
    {
     "ename": "KeyboardInterrupt",
     "evalue": "",
     "output_type": "error",
     "traceback": [
      "\u001b[0;31m---------------------------------------------------------------------------\u001b[0m",
      "\u001b[0;31mKeyboardInterrupt\u001b[0m                         Traceback (most recent call last)",
      "Cell \u001b[0;32mIn[5], line 73\u001b[0m\n\u001b[1;32m     71\u001b[0m     gd\u001b[38;5;241m.\u001b[39mtest_errors \u001b[38;5;241m=\u001b[39m np\u001b[38;5;241m.\u001b[39mload(\u001b[38;5;124mf\u001b[39m\u001b[38;5;124m'\u001b[39m\u001b[38;5;124m../computation-database/data_warm_startH3/Simulated, \u001b[39m\u001b[38;5;132;01m{\u001b[39;00mlabels_simulations[i]\u001b[38;5;132;01m}\u001b[39;00m\u001b[38;5;124m_\u001b[39m\u001b[38;5;132;01m{\u001b[39;00mT\u001b[38;5;132;01m}\u001b[39;00m\u001b[38;5;124m.npz\u001b[39m\u001b[38;5;124m'\u001b[39m)[\u001b[38;5;124m'\u001b[39m\u001b[38;5;124marr_0\u001b[39m\u001b[38;5;124m'\u001b[39m]\n\u001b[1;32m     72\u001b[0m \u001b[38;5;28;01melse\u001b[39;00m:\n\u001b[0;32m---> 73\u001b[0m     \u001b[43mgd\u001b[49m\u001b[38;5;241;43m.\u001b[39;49m\u001b[43mtrain\u001b[49m\u001b[43m(\u001b[49m\u001b[43mT\u001b[49m\u001b[43m,\u001b[49m\u001b[43m \u001b[49m\u001b[43mverbose\u001b[49m\u001b[38;5;241;43m=\u001b[39;49m\u001b[38;5;28;43;01mTrue\u001b[39;49;00m\u001b[43m)\u001b[49m\n\u001b[1;32m     74\u001b[0m     np\u001b[38;5;241m.\u001b[39msavez(\u001b[38;5;124mf\u001b[39m\u001b[38;5;124m'\u001b[39m\u001b[38;5;124m../computation-database/data_warm_startH3/Simulated, \u001b[39m\u001b[38;5;132;01m{\u001b[39;00mlabels_simulations[i]\u001b[38;5;132;01m}\u001b[39;00m\u001b[38;5;124m_\u001b[39m\u001b[38;5;132;01m{\u001b[39;00mT\u001b[38;5;132;01m}\u001b[39;00m\u001b[38;5;124m.npz\u001b[39m\u001b[38;5;124m'\u001b[39m, gd\u001b[38;5;241m.\u001b[39mtest_errors)\n\u001b[1;32m     75\u001b[0m test_errors_simulation[i, :] \u001b[38;5;241m=\u001b[39m np\u001b[38;5;241m.\u001b[39marray(gd\u001b[38;5;241m.\u001b[39mtest_errors)\n",
      "File \u001b[0;32m~/Desktop/staircase-ss/giant-learning/giant_learning/gradient_descent.py:98\u001b[0m, in \u001b[0;36mGradientDescent.train\u001b[0;34m(self, steps, verbose)\u001b[0m\n\u001b[1;32m     96\u001b[0m \u001b[38;5;28;01mif\u001b[39;00m \u001b[38;5;28mself\u001b[39m\u001b[38;5;241m.\u001b[39mresample_every \u001b[38;5;241m>\u001b[39m \u001b[38;5;241m0\u001b[39m \u001b[38;5;129;01mand\u001b[39;00m step \u001b[38;5;241m%\u001b[39m \u001b[38;5;28mself\u001b[39m\u001b[38;5;241m.\u001b[39mresample_every \u001b[38;5;241m==\u001b[39m \u001b[38;5;241m0\u001b[39m:\n\u001b[1;32m     97\u001b[0m     \u001b[38;5;28mself\u001b[39m\u001b[38;5;241m.\u001b[39mzs, \u001b[38;5;28mself\u001b[39m\u001b[38;5;241m.\u001b[39mys \u001b[38;5;241m=\u001b[39m \u001b[38;5;28mself\u001b[39m\u001b[38;5;241m.\u001b[39msamples(\u001b[38;5;28mself\u001b[39m\u001b[38;5;241m.\u001b[39mn)\n\u001b[0;32m---> 98\u001b[0m \u001b[38;5;28;43mself\u001b[39;49m\u001b[38;5;241;43m.\u001b[39;49m\u001b[43mupdate\u001b[49m\u001b[43m(\u001b[49m\u001b[38;5;28;43mself\u001b[39;49m\u001b[38;5;241;43m.\u001b[39;49m\u001b[43mzs\u001b[49m\u001b[43m,\u001b[49m\u001b[43m \u001b[49m\u001b[38;5;28;43mself\u001b[39;49m\u001b[38;5;241;43m.\u001b[39;49m\u001b[43mys\u001b[49m\u001b[43m)\u001b[49m\n\u001b[1;32m     99\u001b[0m \u001b[38;5;28mself\u001b[39m\u001b[38;5;241m.\u001b[39mmeasure()\n",
      "File \u001b[0;32m~/Desktop/staircase-ss/giant-learning/giant_learning/gradient_descent.py:103\u001b[0m, in \u001b[0;36mProjectedGradientDescent.update\u001b[0;34m(self, zs, ys)\u001b[0m\n\u001b[1;32m    102\u001b[0m \u001b[38;5;28;01mdef\u001b[39;00m \u001b[38;5;21mupdate\u001b[39m(\u001b[38;5;28mself\u001b[39m, zs, ys):\n\u001b[0;32m--> 103\u001b[0m     updateW \u001b[38;5;241m=\u001b[39m \u001b[38;5;28;43mself\u001b[39;49m\u001b[38;5;241;43m.\u001b[39;49m\u001b[43mweight_update\u001b[49m\u001b[43m(\u001b[49m\u001b[43mzs\u001b[49m\u001b[43m,\u001b[49m\u001b[43m \u001b[49m\u001b[43mys\u001b[49m\u001b[43m)\u001b[49m\n\u001b[1;32m    104\u001b[0m     \u001b[38;5;28mself\u001b[39m\u001b[38;5;241m.\u001b[39mW_s\u001b[38;5;241m.\u001b[39mappend(\n\u001b[1;32m    105\u001b[0m         (\u001b[38;5;28mself\u001b[39m\u001b[38;5;241m.\u001b[39mW \u001b[38;5;241m+\u001b[39m updateW) \u001b[38;5;241m/\u001b[39m np\u001b[38;5;241m.\u001b[39mlinalg\u001b[38;5;241m.\u001b[39mnorm(\u001b[38;5;28mself\u001b[39m\u001b[38;5;241m.\u001b[39mW \u001b[38;5;241m+\u001b[39m updateW, axis\u001b[38;5;241m=\u001b[39m\u001b[38;5;241m1\u001b[39m, keepdims\u001b[38;5;241m=\u001b[39m\u001b[38;5;28;01mTrue\u001b[39;00m)\n\u001b[1;32m    106\u001b[0m     )\n\u001b[1;32m    107\u001b[0m     \u001b[38;5;28;01mif\u001b[39;00m \u001b[38;5;28mself\u001b[39m\u001b[38;5;241m.\u001b[39msecond_layer_update:\n",
      "File \u001b[0;32m~/Desktop/staircase-ss/giant-learning/giant_learning/gradient_descent.py:73\u001b[0m, in \u001b[0;36mGradientDescent.weight_update\u001b[0;34m(self, zs, ys)\u001b[0m\n\u001b[1;32m     71\u001b[0m \u001b[38;5;28;01mdef\u001b[39;00m \u001b[38;5;21mweight_update\u001b[39m(\u001b[38;5;28mself\u001b[39m, zs, ys):\n\u001b[1;32m     72\u001b[0m     \u001b[38;5;28;01mif\u001b[39;00m \u001b[38;5;28mself\u001b[39m\u001b[38;5;241m.\u001b[39mpredictor_interaction:\n\u001b[0;32m---> 73\u001b[0m         displacements \u001b[38;5;241m=\u001b[39m ys \u001b[38;5;241m-\u001b[39m \u001b[43mnp\u001b[49m\u001b[38;5;241;43m.\u001b[39;49m\u001b[43mapply_along_axis\u001b[49m\u001b[43m(\u001b[49m\u001b[38;5;28;43mself\u001b[39;49m\u001b[38;5;241;43m.\u001b[39;49m\u001b[43mnetwork\u001b[49m\u001b[43m,\u001b[49m\u001b[43m \u001b[49m\u001b[38;5;241;43m-\u001b[39;49m\u001b[38;5;241;43m1\u001b[39;49m\u001b[43m,\u001b[49m\u001b[43m \u001b[49m\u001b[43mzs\u001b[49m\u001b[43m \u001b[49m\u001b[38;5;241;43m@\u001b[39;49m\u001b[43m \u001b[49m\u001b[38;5;28;43mself\u001b[39;49m\u001b[38;5;241;43m.\u001b[39;49m\u001b[43mW\u001b[49m\u001b[38;5;241;43m.\u001b[39;49m\u001b[43mT\u001b[49m\u001b[43m)\u001b[49m\n\u001b[1;32m     74\u001b[0m     \u001b[38;5;28;01melse\u001b[39;00m:\n\u001b[1;32m     75\u001b[0m         displacements \u001b[38;5;241m=\u001b[39m ys\n",
      "File \u001b[0;32m<__array_function__ internals>:177\u001b[0m, in \u001b[0;36mapply_along_axis\u001b[0;34m(*args, **kwargs)\u001b[0m\n",
      "\u001b[0;31mKeyboardInterrupt\u001b[0m: "
     ]
    }
   ],
   "source": [
    "from giant_learning.gradient_descent import ProjectedGradientDescent\n",
    "from giant_learning.erf_erf import ProjectedErfErfOverlaps\n",
    "\n",
    "import numpy as np\n",
    "from sklearn.preprocessing import normalize\n",
    "from scipy.linalg import orth\n",
    "from tqdm import tqdm\n",
    "\n",
    "\n",
    "target = ProjectedErfErfOverlaps._target\n",
    "activation = ProjectedErfErfOverlaps._activation\n",
    "activation_derivative = ProjectedErfErfOverlaps._activation_derivative\n",
    "\n",
    "perfectlearning_color = 'Green'\n",
    "saadsolla_color = 'Teal'\n",
    "badlearning_color = 'Red'\n",
    "\n",
    "p = 2\n",
    "k = 2\n",
    "d = 10000\n",
    "\n",
    "n = [int(np.power(d,1/4)), int(np.power(d,1/2)), int(np.power(d,1/2))]\n",
    "\n",
    "## Plot Table\n",
    "labels_simulations = [f'Noise Learning', f'Saad\\&Solla', f'Population Flow']\n",
    "labels_theory = [f'Theory, Noise Learning', f'Theory, Saad\\&Solla', f'Theory, Population Flow']\n",
    "gammas = 10.*p*np.array([.015*np.power(d,-2/16),.4*np.power(d,-1/2),.5*np.power(d,-1.)])\n",
    "I3activated = [False,True, True]\n",
    "I4_diagonalactivated = [d/n[0],d/n[1], False]\n",
    "I4_offdiagonalactivated = [True,False, False]\n",
    "colors = [badlearning_color,saadsolla_color, perfectlearning_color]\n",
    "\n",
    "t = 0\n",
    "noise = 1e-2\n",
    "\n",
    "T = 100000\n",
    "\n",
    "seed = [2,1,2]\n",
    "read_simulation = False\n",
    "\n",
    "# Initial conditions\n",
    "Wtarget = orth((normalize(np.random.normal(size=(k,d)), axis=1, norm='l2')).T).T\n",
    "Wtild = normalize(np.random.normal(size=(p,d)), axis=1, norm='l2')\n",
    "Wtild_target = np.einsum('ji,ri,rh->jh', Wtild , Wtarget ,Wtarget)\n",
    "W0_orth =  normalize(Wtild - Wtild_target, axis=1, norm='l2')\n",
    "W0 = (t*normalize(Wtild_target,norm='l2',axis=1) + np.sqrt(1-t**2)*W0_orth)\n",
    "a0 = np.ones(p) \n",
    "\n",
    "P = Wtarget @ Wtarget.T\n",
    "M0 = W0 @ Wtarget.T\n",
    "Q0 = W0 @ W0.T\n",
    "\n",
    "test_errors_simulation = np.zeros((len(gammas), T+1))\n",
    "test_errors_theory = np.zeros((len(gammas), T+1))\n",
    "\n",
    "\n",
    "for i,gamma in enumerate(gammas):\n",
    "    gd = ProjectedGradientDescent(\n",
    "        target, Wtarget, n[i],\n",
    "        activation, W0, a0, activation_derivative, \n",
    "        gamma, noise, second_layer_update = False, test_size = None, analytical_error= 'erferf',\n",
    "        seed=seed[i]^i\n",
    "    )\n",
    "    th = ProjectedErfErfOverlaps(\n",
    "        P, M0, Q0, a0,\n",
    "        gamma, noise,\n",
    "        I4_diagonal=I4_diagonalactivated[i], I4_offdiagonal=I4_offdiagonalactivated[i], I3=I3activated[i],\n",
    "        second_layer_update=False\n",
    "    )\n",
    "    if read_simulation:\n",
    "        gd.test_errors = np.load(f'../computation-database/data_warm_startH3/Simulated, {labels_simulations[i]}_{T}.npz')['arr_0']\n",
    "    else:\n",
    "        if i == 0: continue\n",
    "        gd.train(T, verbose=True)\n",
    "        np.savez(f'../computation-database/data_warm_startH3/Simulated, {labels_simulations[i]}_{T}.npz', gd.test_errors)\n",
    "    test_errors_simulation[i, :] = np.array(gd.test_errors)\n",
    "    th.train(T, verbose=True)\n",
    "    test_errors_theory[i, :] = th.test_errors"
   ]
  },
  {
   "cell_type": "code",
   "execution_count": null,
   "metadata": {},
   "outputs": [
    {
     "data": {
      "image/png": "[encoded data removed]",
      "text/plain": [
       "<Figure size 330x330 with 1 Axes>"
      ]
     },
     "metadata": {},
     "output_type": "display_data"
    }
   ],
   "source": [
    "number_of_plotted_points = 20\n",
    "\n",
    "nonoise_test_errors_simulation = test_errors_simulation - noise/2\n",
    "nonoise_test_errors_theory = test_errors_theory -noise/2\n",
    "\n",
    "fig, ax = plt.subplots(figsize=(3.3, 3.3))\n",
    "\n",
    "for i, gamma in enumerate(gammas):\n",
    "    plotted_T = np.logspace(0,np.log10(T),num=number_of_plotted_points, dtype=int)\n",
    "    ax.plot(plotted_T,nonoise_test_errors_simulation[i][plotted_T], marker='o', linestyle='', label=labels_simulations[i], color=colors[i])\n",
    "    ax.plot(nonoise_test_errors_theory[i], linestyle='-',  color=colors[i])\n",
    "\n",
    "# ax.legend(gammas)\n",
    "ax.set_xlabel(r'$t = \\frac{\\tau}{\\Delta\\tau}$')\n",
    "ax.set_ylabel(r'$\\frac{1}{2}\\left(\\mathbb{E}[\\mathcal{E}^2]-\\Delta\\right)$')\n",
    "ax.set_xscale('log')\n",
    "ax.set_yscale('log')\n",
    "ax.set_xlim(1,1e5)\n",
    "ax.set_ylim(1e-2,5e-1)\n",
    "ax.legend()\n",
    "\n",
    "plt.savefig('figures/dynamicsH3[multindex].pdf', bbox_inches = 'tight')\n",
    "plt.show()\n"
   ]
  }
 ],
 "metadata": {
  "kernelspec": {
   "display_name": "venv",
   "language": "python",
   "name": "python3"
  },
  "language_info": {
   "codemirror_mode": {
    "name": "ipython",
    "version": 3
   },
   "file_extension": ".py",
   "mimetype": "text/x-python",
   "name": "python",
   "nbconvert_exporter": "python",
   "pygments_lexer": "ipython3",
   "version": "3.11.7"
  }
 },
 "nbformat": 4,
 "nbformat_minor": 2
}
