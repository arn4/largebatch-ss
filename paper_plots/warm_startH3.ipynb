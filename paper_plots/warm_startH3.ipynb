{
 "cells": [
  {
   "cell_type": "code",
   "execution_count": 4,
   "metadata": {},
   "outputs": [],
   "source": [
    "import matplotlib.pyplot as plt\n",
    "\n",
    "plt.rcParams['text.usetex'] = True\n",
    "plt.rcParams['text.latex.preamble'] = r'\\usepackage{amsfonts}'\n",
    "\n",
    "allowed_color = 'Green'\n",
    "polylog_color = 'Black'\n",
    "noyhat_color = 'Orange'\n",
    "giantstep_color = 'Blue'\n",
    "notallowed_color = 'Red'\n",
    "processnotdefined_color = 'Purple'\n",
    "sweetspot_color = 'cyan'"
   ]
  },
  {
   "cell_type": "code",
   "execution_count": 5,
   "metadata": {},
   "outputs": [
    {
     "name": "stdout",
     "output_type": "stream",
     "text": [
      "[1. 1. 1.]\n"
     ]
    },
    {
     "name": "stderr",
     "output_type": "stream",
     "text": [
      "100%|██████████| 100000/100000 [00:04<00:00, 22493.23it/s]\n",
      "100%|██████████| 100000/100000 [00:04<00:00, 23932.93it/s]\n",
      "100%|██████████| 100000/100000 [00:03<00:00, 26325.48it/s]\n"
     ]
    }
   ],
   "source": [
    "from giant_learning.gradient_descent import SphericalGradientDescent\n",
    "from giant_learning.erf_erf import SphericalErfErfOverlaps\n",
    "\n",
    "import numpy as np\n",
    "from sklearn.preprocessing import normalize\n",
    "from scipy.linalg import orth\n",
    "from tqdm import tqdm\n",
    "\n",
    "\n",
    "target = SphericalErfErfOverlaps._target\n",
    "activation = SphericalErfErfOverlaps._activation\n",
    "activation_derivative = SphericalErfErfOverlaps._activation_derivative\n",
    "\n",
    "perfectlearning_color = 'Green'\n",
    "saadsolla_color = 'Teal'\n",
    "badlearning_color = 'Red'\n",
    "\n",
    "p = 2\n",
    "k = 2\n",
    "d = 10000\n",
    "\n",
    "n = [int(np.power(d,1/4)), int(np.power(d,1/2)), int(np.power(d,1/2))]\n",
    "\n",
    "## Plot Table\n",
    "labels_simulations = [f'Noise Learning', f'Saad\\&Solla', f'Population Flow']\n",
    "labels_theory = [f'Theory, Noise Learning', f'Theory, Saad\\&Solla', f'Theory, Population Flow']\n",
    "gammas = 10.*p*np.array([.015*np.power(d,-2/16),.4*np.power(d,-1/2),.5*np.power(d,-1.)])\n",
    "I3activated = [False,True, True]\n",
    "I4_diagonalactivated = [d/n[0],d/n[1], False]\n",
    "I4_offdiagonalactivated = [True,False, False]\n",
    "colors = [badlearning_color,saadsolla_color, perfectlearning_color]\n",
    "scaling = np.array([1.,1.,1.])\n",
    "print(scaling)\n",
    "\n",
    "t = 0\n",
    "noise = 1e-2\n",
    "\n",
    "T = 100000\n",
    "\n",
    "seed = [2,1,2]\n",
    "read_simulation = True\n",
    "\n",
    "# Initial conditions\n",
    "Wtarget = orth((normalize(np.random.normal(size=(k,d)), axis=1, norm='l2')).T).T\n",
    "Wtild = normalize(np.random.normal(size=(p,d)), axis=1, norm='l2')\n",
    "Wtild_target = np.einsum('ji,ri,rh->jh', Wtild , Wtarget ,Wtarget)\n",
    "W0_orth =  normalize(Wtild - Wtild_target, axis=1, norm='l2')\n",
    "W0 = (t*normalize(Wtild_target,norm='l2',axis=1) + np.sqrt(1-t**2)*W0_orth)\n",
    "a0 = np.ones(p) \n",
    "\n",
    "P = Wtarget @ Wtarget.T\n",
    "M0 = W0 @ Wtarget.T\n",
    "Q0 = W0 @ W0.T\n",
    "\n",
    "test_errors_simulation = np.zeros((len(gammas), T+1))\n",
    "test_errors_theory = np.zeros((len(gammas), T+1))\n",
    "\n",
    "\n",
    "for i,gamma in enumerate(gammas):\n",
    "    gd = SphericalGradientDescent(\n",
    "        target, Wtarget, n[i],\n",
    "        activation, W0, a0, activation_derivative, \n",
    "        gamma, noise, second_layer_update = False, test_size = None, analytical_error= 'erferf',\n",
    "        seed=seed[i]^i\n",
    "    )\n",
    "    th = SphericalErfErfOverlaps(\n",
    "        P, M0, Q0, a0,\n",
    "        gamma, noise,\n",
    "        I4_diagonal=I4_diagonalactivated[i], I4_offdiagonal=I4_offdiagonalactivated[i], I3=I3activated[i],\n",
    "        second_layer_update=False\n",
    "    )\n",
    "    if read_simulation:\n",
    "        gd.test_errors = np.load(f'../computation-database/data_warm_start/Simulated, {labels_simulations[i]}_{T}.npz')['arr_0']\n",
    "    else:\n",
    "        gd.train(T, verbose=True)\n",
    "        np.savez(f'../computation-database/data_warm_start/Simulated, {labels_simulations[i]}_{T}.npz', gd.test_errors)\n",
    "    test_errors_simulation[i, :] = gd.test_errors * scaling[i]\n",
    "    th.train(T, verbose=True)\n",
    "    test_errors_theory[i, :] = th.test_errors\n",
    "\n",
    "\n"
   ]
  },
  {
   "cell_type": "code",
   "execution_count": 6,
   "metadata": {},
   "outputs": [
    {
     "name": "stdout",
     "output_type": "stream",
     "text": [
      "[[0.25593263 0.28413893 0.29781146 ... 0.40375589 0.40149074 0.39846823]\n",
      " [0.25474996 0.25301325 0.25089293 ... 0.09920632 0.09925765 0.09921849]\n",
      " [0.25474996 0.25468275 0.25461345 ... 0.01467369 0.01467376 0.01467377]]\n",
      "[[0.25262645 0.28639289 0.31272656 ... 0.42166667 0.42166667 0.42166667]\n",
      " [0.25262645 0.2501425  0.24771054 ... 0.09692725 0.09692725 0.09692725]\n",
      " [0.25262645 0.2525548  0.25248316 ... 0.01454761 0.01454761 0.01454761]]\n"
     ]
    },
    {
     "data": {
      "image/png": "[encoded data removed]",
      "text/plain": [
       "<Figure size 330x330 with 1 Axes>"
      ]
     },
     "metadata": {},
     "output_type": "display_data"
    }
   ],
   "source": [
    "number_of_plotted_points = 20\n",
    "\n",
    "nonoise_test_errors_simulation = test_errors_simulation - noise/2\n",
    "nonoise_test_errors_theory = test_errors_theory -noise/2\n",
    "\n",
    "# nonoise_test_errors_simulation[0] += 7.*noise\n",
    "# nonoise_test_errors_theory[2] -= noise/2\n",
    "\n",
    "print(nonoise_test_errors_simulation)\n",
    "print(nonoise_test_errors_theory)\n",
    "\n",
    "fig, ax = plt.subplots(figsize=(3.3, 3.3))\n",
    "\n",
    "for i, gamma in enumerate(gammas):\n",
    "    plotted_T = np.logspace(0,np.log10(T),num=number_of_plotted_points, dtype=int)\n",
    "    ax.plot(plotted_T,nonoise_test_errors_simulation[i][plotted_T], marker='o', linestyle='', label=labels_simulations[i], color=colors[i])\n",
    "    ax.plot(nonoise_test_errors_theory[i], linestyle='-',  color=colors[i])\n",
    "\n",
    "# ax.legend(gammas)\n",
    "ax.set_xlabel(r'$t = \\frac{\\tau}{\\Delta\\tau}$')\n",
    "ax.set_ylabel(r'$\\frac{1}{2}\\left(\\mathbb{E}[\\mathcal{E}^2]-\\Delta\\right)$')\n",
    "ax.set_xscale('log')\n",
    "ax.set_yscale('log')\n",
    "ax.set_xlim(1,1e5)\n",
    "ax.set_ylim(1e-2,5e-1)\n",
    "ax.legend()\n",
    "\n",
    "plt.savefig('figures/dynamicsH3[multindex].pdf', bbox_inches = 'tight')\n",
    "plt.show()\n"
   ]
  }
 ],
 "metadata": {
  "kernelspec": {
   "display_name": "venv",
   "language": "python",
   "name": "python3"
  },
  "language_info": {
   "codemirror_mode": {
    "name": "ipython",
    "version": 3
   },
   "file_extension": ".py",
   "mimetype": "text/x-python",
   "name": "python",
   "nbconvert_exporter": "python",
   "pygments_lexer": "ipython3",
   "version": "3.11.7"
  }
 },
 "nbformat": 4,
 "nbformat_minor": 2
}
