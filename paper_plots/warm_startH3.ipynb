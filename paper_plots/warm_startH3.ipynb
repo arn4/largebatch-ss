{
 "cells": [
  {
   "cell_type": "code",
   "execution_count": 24,
   "metadata": {},
   "outputs": [],
   "source": [
    "import matplotlib.pyplot as plt\n",
    "\n",
    "plt.rcParams['text.usetex'] = True\n",
    "plt.rcParams['text.latex.preamble'] = r'\\usepackage{amsfonts}'\n",
    "\n",
    "allowed_color = 'Green'\n",
    "polylog_color = 'Black'\n",
    "noyhat_color = 'Orange'\n",
    "giantstep_color = 'Blue'\n",
    "notallowed_color = 'Red'\n",
    "processnotdefined_color = 'Purple'\n",
    "sweetspot_color = 'cyan'"
   ]
  },
  {
   "cell_type": "code",
   "execution_count": 25,
   "metadata": {},
   "outputs": [
    {
     "name": "stderr",
     "output_type": "stream",
     "text": [
      "100%|██████████| 10000/10000 [00:35<00:00, 284.57it/s]\n",
      "100%|██████████| 10000/10000 [00:00<00:00, 32388.97it/s]\n",
      "100%|██████████| 10000/10000 [08:34<00:00, 19.44it/s]\n",
      "100%|██████████| 10000/10000 [00:00<00:00, 25071.40it/s]\n",
      "100%|██████████| 10000/10000 [08:34<00:00, 19.44it/s]\n",
      "100%|██████████| 10000/10000 [00:00<00:00, 24142.05it/s]\n"
     ]
    }
   ],
   "source": [
    "from giant_learning.gradient_descent import ProjectedGradientDescent\n",
    "from giant_learning.erf_erf import ProjectedErfErfOverlaps\n",
    "\n",
    "import numpy as np\n",
    "from sklearn.preprocessing import normalize\n",
    "from scipy.linalg import orth\n",
    "from tqdm import tqdm\n",
    "\n",
    "\n",
    "target = ProjectedErfErfOverlaps._target\n",
    "activation = ProjectedErfErfOverlaps._activation\n",
    "activation_derivative = ProjectedErfErfOverlaps._activation_derivative\n",
    "\n",
    "perfectlearning_color = 'Green'\n",
    "saadsolla_color = 'Teal'\n",
    "badlearning_color = 'Red'\n",
    "\n",
    "p = 2\n",
    "k = 2\n",
    "d = 10000\n",
    "\n",
    "n = [int(np.power(d,1/4)), int(np.power(d,1/2)), int(np.power(d,1/2))]\n",
    "\n",
    "## Plot Table\n",
    "labels_simulations = [f'Noise Learning', f'Saad\\&Solla', f'Population Flow']\n",
    "labels_theory = [f'Theory, Noise Learning', f'Theory, Saad\\&Solla', f'Theory, Population Flow']\n",
    "gammas = 10.*p*np.array([.015*np.power(d,-2/16),.4*np.power(d,-1/2),.5*np.power(d,-1.)])\n",
    "I3activated = [False,True, True]\n",
    "I4_diagonalactivated = [d/n[0],d/n[1], False]\n",
    "I4_offdiagonalactivated = [False,False, False]\n",
    "colors = [badlearning_color,saadsolla_color, perfectlearning_color]\n",
    "\n",
    "t = 0\n",
    "noise = 1e-2\n",
    "\n",
    "T = 10000\n",
    "\n",
    "ic_seed = 4\n",
    "seed = [2,2,2]\n",
    "read_simulation = False\n",
    "\n",
    "# Initial conditions\n",
    "rng = np.random.default_rng(ic_seed^931908)\n",
    "Wtarget = orth((normalize(rng.normal(size=(k,d)), axis=1, norm='l2')).T).T\n",
    "Wtild = normalize(rng.normal(size=(p,d)), axis=1, norm='l2')\n",
    "Wtild_target = np.einsum('ji,ri,rh->jh', Wtild , Wtarget ,Wtarget)\n",
    "W0_orth =  normalize(Wtild - Wtild_target, axis=1, norm='l2')\n",
    "W0 = (t*normalize(Wtild_target,norm='l2',axis=1) + np.sqrt(1-t**2)*W0_orth)\n",
    "a0 = np.ones(p) \n",
    "\n",
    "P = Wtarget @ Wtarget.T\n",
    "M0 = W0 @ Wtarget.T\n",
    "Q0 = W0 @ W0.T\n",
    "\n",
    "test_errors_simulation = np.zeros((len(gammas), T+1))\n",
    "test_errors_theory = np.zeros((len(gammas), T+1))\n",
    "\n",
    "\n",
    "for i,gamma in enumerate(gammas):\n",
    "    gd = ProjectedGradientDescent(\n",
    "        target, Wtarget, n[i],\n",
    "        activation, W0, a0, activation_derivative, \n",
    "        gamma, noise, second_layer_update = False, test_size = None, analytical_error= 'erferf',\n",
    "        seed=seed[i]^i, lazy_memory=True\n",
    "    )\n",
    "    th = ProjectedErfErfOverlaps(\n",
    "        P, M0, Q0, a0,\n",
    "        gamma, noise,\n",
    "        I4_diagonal=I4_diagonalactivated[i], I4_offdiagonal=I4_offdiagonalactivated[i], I3=I3activated[i],\n",
    "        second_layer_update=False\n",
    "    )\n",
    "    if read_simulation:\n",
    "        gd.test_errors = np.load(f'../computation-database/data_warm_startH3/Simulated, {labels_simulations[i]}_{T}.npz')['arr_0']\n",
    "    else:\n",
    "        gd.train(T, verbose=True)\n",
    "        np.savez(f'../computation-database/data_warm_startH3/Simulated, {labels_simulations[i]}_{T}.npz', gd.test_errors)\n",
    "    test_errors_simulation[i, :] = np.array(gd.test_errors)\n",
    "    th.train(T, verbose=True)\n",
    "    test_errors_theory[i, :] = th.test_errors"
   ]
  },
  {
   "cell_type": "code",
   "execution_count": 26,
   "metadata": {},
   "outputs": [
    {
     "data": {
      "image/png": "[encoded data removed]",
      "text/plain": [
       "<Figure size 330x330 with 1 Axes>"
      ]
     },
     "metadata": {},
     "output_type": "display_data"
    }
   ],
   "source": [
    "number_of_plotted_points = 20\n",
    "\n",
    "nonoise_test_errors_simulation = test_errors_simulation - noise/2\n",
    "nonoise_test_errors_theory = test_errors_theory -noise/2\n",
    "\n",
    "fig, ax = plt.subplots(figsize=(3.3, 3.3))\n",
    "\n",
    "for i, gamma in enumerate(gammas):\n",
    "    plotted_T = np.logspace(0,np.log10(T),num=number_of_plotted_points, dtype=int)\n",
    "    ax.plot(plotted_T,nonoise_test_errors_simulation[i][plotted_T], marker='o', linestyle='', label=labels_simulations[i], color=colors[i])\n",
    "    ax.plot(nonoise_test_errors_theory[i], linestyle='-',  color=colors[i])\n",
    "\n",
    "# ax.legend(gammas)\n",
    "ax.set_xlabel(r'$t = \\frac{\\tau}{\\Delta\\tau}$')\n",
    "ax.set_ylabel(r'$\\frac{1}{2}\\left(\\mathbb{E}[\\mathcal{E}^2]-\\Delta\\right)$')\n",
    "ax.set_xscale('log')\n",
    "ax.set_yscale('log')\n",
    "# ax.set_xlim(1,1e5)\n",
    "# ax.set_ylim(1e-2,5e-1)\n",
    "ax.legend()\n",
    "\n",
    "plt.savefig('figures/dynamicsH3[multindex].pdf', bbox_inches = 'tight')\n",
    "plt.show()\n"
   ]
  }
 ],
 "metadata": {
  "kernelspec": {
   "display_name": "venv",
   "language": "python",
   "name": "python3"
  },
  "language_info": {
   "codemirror_mode": {
    "name": "ipython",
    "version": 3
   },
   "file_extension": ".py",
   "mimetype": "text/x-python",
   "name": "python",
   "nbconvert_exporter": "python",
   "pygments_lexer": "ipython3",
   "version": "3.11.7"
  }
 },
 "nbformat": 4,
 "nbformat_minor": 2
}
