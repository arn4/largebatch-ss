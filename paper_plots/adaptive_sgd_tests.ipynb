{
 "cells": [
  {
   "cell_type": "code",
   "execution_count": 1,
   "metadata": {},
   "outputs": [],
   "source": [
    "import matplotlib.pyplot as plt\n",
    "\n",
    "plt.rcParams['text.usetex'] = True\n",
    "plt.rcParams['text.latex.preamble'] = r'\\usepackage{amsfonts}'\n",
    "\n",
    "allowed_color = 'Green'\n",
    "polylog_color = 'Black'\n",
    "noyhat_color = 'Orange'\n",
    "giantstep_color = 'Blue'\n",
    "notallowed_color = 'Red'\n",
    "processnotdefined_color = 'Purple'\n",
    "sweetspot_color = 'cyan'"
   ]
  },
  {
   "cell_type": "code",
   "execution_count": 2,
   "metadata": {},
   "outputs": [
    {
     "name": "stdout",
     "output_type": "stream",
     "text": [
      "P = [[1.]]\n",
      "M0 = [[0.03125]]\n",
      "Q0 = [[1.]]\n"
     ]
    },
    {
     "name": "stderr",
     "output_type": "stream",
     "text": [
      "100%|██████████| 1000/1000 [02:53<00:00,  5.76it/s]\n",
      "100%|██████████| 1000/1000 [02:17<00:00,  7.25it/s]\n",
      "100%|██████████| 1000/1000 [02:37<00:00,  6.34it/s]\n",
      "100%|██████████| 1000/1000 [00:00<00:00, 5086.01it/s]\n",
      "100%|██████████| 1000/1000 [00:00<00:00, 14027.58it/s]\n",
      "100%|██████████| 1000/1000 [00:00<00:00, 12445.23it/s]\n"
     ]
    }
   ],
   "source": [
    "from giant_learning.poly_poly import SphericalH3H3Overlaps\n",
    "from giant_learning.gradient_descent import SphericalGradientDescent\n",
    "\n",
    "import numpy as np\n",
    "from sklearn.preprocessing import normalize\n",
    "from scipy.linalg import orth\n",
    "\n",
    "p = 1\n",
    "k = 1\n",
    "d = 2**10\n",
    "T = 1000\n",
    "noise = 1e-6\n",
    "n = int(np.power(d,1.3))\n",
    "t = 1./np.sqrt(d)  \n",
    "gamma = .1 * n * p * np.power(d,-3/2)\n",
    "seed = 0\n",
    "\n",
    "target = SphericalH3H3Overlaps._target\n",
    "activation = SphericalH3H3Overlaps._activation\n",
    "activation_derivative = SphericalH3H3Overlaps._activation_derivative\n",
    "offdiag = (False if n == 1 else True)\n",
    "\n",
    "\n",
    "sim_plainsgd_test_errors = np.zeros((T+1))\n",
    "sim_correlationsgd_test_errors = np.zeros((T+1))\n",
    "sim_adaptivesgd_test_errors = np.zeros((T+1))\n",
    "theo_plainsgd_test_errors = np.zeros((T+1))\n",
    "theo_correlationsgd_test_errors = np.zeros((T+1))\n",
    "theo_adaptivesgd_test_errors = np.zeros((T+1))\n",
    "\n",
    "## Initial conditions\n",
    "rng = np.random.default_rng(seed+1)\n",
    "Wtarget = orth((normalize(rng.normal(size=(k,d)), axis=1, norm='l2')).T).T\n",
    "Wtild = normalize(rng.normal(size=(p,d)), axis=1, norm='l2')\n",
    "Wtild_target = np.einsum('ji,ri,rh->jh', Wtild , Wtarget ,Wtarget)\n",
    "W0_orth =  normalize(Wtild - Wtild_target, axis=1, norm='l2')\n",
    "W0 = -(t*normalize(Wtild_target,norm='l2',axis=1) + np.sqrt(1-t**2)*W0_orth)\n",
    "a0 = np.ones(p) ### It is changed with the new version of the package. The 1/p is included in giant-learning ###\n",
    "\n",
    "P = Wtarget @ Wtarget.T\n",
    "M0 = W0 @ Wtarget.T\n",
    "Q0 = W0 @ W0.T\n",
    "\n",
    "print(f'P = {P}')\n",
    "print(f'M0 = {M0}')\n",
    "print(f'Q0 = {Q0}')\n",
    "\n",
    "gd_plain = SphericalGradientDescent(\n",
    "    target, Wtarget, n,\n",
    "    activation, W0, a0, activation_derivative,\n",
    "    gamma, noise, predictor_interaction=True,\n",
    "    test_size = None, analytical_error= 'H3H3'\n",
    ")\n",
    "\n",
    "gd_corr = SphericalGradientDescent(\n",
    "    target, Wtarget, n,\n",
    "    activation, W0, a0, activation_derivative,\n",
    "    gamma, noise, predictor_interaction=False,\n",
    "    test_size = None, analytical_error= 'H3H3',\n",
    ")\n",
    "\n",
    "gd_adaptive = SphericalGradientDescent(\n",
    "    target, Wtarget, n,\n",
    "    activation, W0, a0, activation_derivative,\n",
    "    gamma, noise, predictor_interaction='adaptive',\n",
    "    test_size = None, analytical_error= 'H3H3'\n",
    ")\n",
    "\n",
    "gd_adaptive._adaptive_percentage_threshold = 0.6\n",
    "\n",
    "gd_plain.train(T, verbose = True)\n",
    "gd_corr.train(T, verbose = True)\n",
    "gd_adaptive.train(T, verbose = True)\n",
    "\n",
    "sim_plainsgd_test_errors = np.array(gd_plain.test_errors)\n",
    "sim_correlationsgd_test_errors = np.array(gd_corr.test_errors)\n",
    "sim_adaptivesgd_test_errors = np.array(gd_adaptive.test_errors)\n",
    "\n",
    "\n",
    "## Theoretical predictions\n",
    "theo_plain = SphericalH3H3Overlaps(\n",
    "    P, M0, Q0, a0,\n",
    "    gamma, noise,\n",
    "    I4_diagonal=d/n, I4_offdiagonal=offdiag,\n",
    "    predictor_interaction=True\n",
    ")\n",
    "\n",
    "theo_corr = SphericalH3H3Overlaps(\n",
    "    P, M0, Q0, a0,\n",
    "    gamma, noise,\n",
    "    I4_diagonal=d/n, I4_offdiagonal=offdiag,\n",
    "    predictor_interaction=False\n",
    ")\n",
    "\n",
    "theo_adaptive = SphericalH3H3Overlaps(\n",
    "    P, M0, Q0, a0,\n",
    "    gamma, noise,\n",
    "    I4_diagonal=d/n, I4_offdiagonal=offdiag,\n",
    "    predictor_interaction='adaptive'\n",
    ")\n",
    "\n",
    "theo_plain.train(T, verbose = True)\n",
    "theo_corr.train(T, verbose = True)\n",
    "theo_adaptive.train(T, verbose = True)\n",
    "\n",
    "theo_plainsgd_test_errors = np.array(theo_plain.test_errors)\n",
    "theo_correlationsgd_test_errors = np.array(theo_corr.test_errors)\n",
    "theo_adaptivesgd_test_errors = np.array(theo_adaptive.test_errors)\n",
    "\n",
    "\n"
   ]
  },
  {
   "cell_type": "code",
   "execution_count": 7,
   "metadata": {},
   "outputs": [
    {
     "name": "stdout",
     "output_type": "stream",
     "text": [
      "True 0.02167580538349645 0.0036127441817235366\n"
     ]
    },
    {
     "data": {
      "image/png": "[encoded data removed]",
      "text/plain": [
       "<Figure size 310x250 with 1 Axes>"
      ]
     },
     "metadata": {},
     "output_type": "display_data"
    }
   ],
   "source": [
    "fig, ax = plt.subplots(1,1,figsize=(3.1,2.5))\n",
    "\n",
    "print(gd_adaptive.predictor_interaction, gd_adaptive.test_errors[-1], gd_adaptive.test_errors[-1]/gd_adaptive.test_errors[0])\n",
    "\n",
    "R0 = 1.0\n",
    "ax.plot(sim_adaptivesgd_test_errors/R0, label=f'Adaptive SGD', marker='', ls='-', color='green')\n",
    "ax.plot(sim_correlationsgd_test_errors/R0, label=f'Correlation Loss SGD', marker='', ls='-', color='blue')\n",
    "ax.plot(sim_plainsgd_test_errors/R0, label=f'SGD', marker='', ls='-', color='red')\n",
    "\n",
    "# ax.plot(theo_adaptivesgd_=f'Adaptive SGD Theory', marker='', linestyle='-', color='green')\n",
    "# ax.plot(theo_correlationsgd_test_errors, label=f'Correlation Loss SGD Theory', marker='', linestyle='-', color='blue')\n",
    "# ax.plot(theo_plainsgd_test_errors, label=f'SGD test_errors, labelTheory', marker='', linestyle='-', color='red')\n",
    "\n",
    "# ax.set_xscale('log')\n",
    "ax.set_yscale('log')\n",
    "ax.set_xlabel('Steps')\n",
    "ax.set_ylabel('Test error')\n",
    "ax.set_xlim([0,1000])\n",
    "ax.set_ylim([1e-2,1e1])\n",
    "ax.legend(fontsize=8, loc='lower left')\n",
    "\n",
    "plt.savefig('figures/adaptive_SGD.pdf', bbox_inches = 'tight')\n",
    "\n"
   ]
  }
 ],
 "metadata": {
  "kernelspec": {
   "display_name": "venv",
   "language": "python",
   "name": "python3"
  },
  "language_info": {
   "codemirror_mode": {
    "name": "ipython",
    "version": 3
   },
   "file_extension": ".py",
   "mimetype": "text/x-python",
   "name": "python",
   "nbconvert_exporter": "python",
   "pygments_lexer": "ipython3",
   "version": "3.11.7"
  }
 },
 "nbformat": 4,
 "nbformat_minor": 2
}
