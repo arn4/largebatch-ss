{
 "cells": [
  {
   "cell_type": "code",
   "execution_count": 3,
   "metadata": {},
   "outputs": [],
   "source": [
    "import matplotlib.pyplot as plt\n",
    "\n",
    "plt.rcParams['text.usetex'] = True\n",
    "plt.rcParams['text.latex.preamble'] = r'\\usepackage{amsfonts}'\n",
    "\n",
    "allowed_color = 'Green'\n",
    "polylog_color = 'Black'\n",
    "noyhat_color = 'Orange'\n",
    "giantstep_color = 'Blue'\n",
    "notallowed_color = 'Red'\n",
    "processnotdefined_color = 'Purple'\n",
    "sweetspot_color = 'cyan'"
   ]
  },
  {
   "cell_type": "code",
   "execution_count": 4,
   "metadata": {},
   "outputs": [
    {
     "name": "stdout",
     "output_type": "stream",
     "text": [
      "P = [[1.]]\n",
      "M0 = [[-0.12783978]]\n",
      "Q0 = [[1.]]\n",
      "P = [[1.]]\n",
      "M0 = [[-0.12783978]]\n",
      "Q0 = [[1.]]\n",
      "3.0000500000000017 3.0000500000000017\n"
     ]
    },
    {
     "name": "stderr",
     "output_type": "stream",
     "text": [
      "  0%|          | 0/1 [00:00<?, ?it/s]"
     ]
    },
    {
     "name": "stderr",
     "output_type": "stream",
     "text": [
      "100%|██████████| 1/1 [00:00<00:00, 44.95it/s]\n",
      "100%|██████████| 1/1 [00:00<00:00, 1353.44it/s]"
     ]
    },
    {
     "name": "stdout",
     "output_type": "stream",
     "text": [
      "[array([[-0.12783978]]), array([[-0.12783978]])]\n"
     ]
    },
    {
     "name": "stderr",
     "output_type": "stream",
     "text": [
      "\n"
     ]
    }
   ],
   "source": [
    "from giant_learning.gradient_descent import SphericalGradientDescent\n",
    "from giant_learning.poly_poly import SphericalH3H3Overlaps\n",
    "\n",
    "import numpy as np\n",
    "from sklearn.preprocessing import normalize\n",
    "from scipy.linalg import orth\n",
    "from tqdm import tqdm\n",
    "\n",
    "\n",
    "target = SphericalH3H3Overlaps._target\n",
    "activation = SphericalH3H3Overlaps._activation\n",
    "activation_derivative = SphericalH3H3Overlaps._activation_derivative\n",
    "\n",
    "perfectlearning_color = 'Green'\n",
    "saadsolla_color = 'Teal'\n",
    "badlearning_color = 'Red'\n",
    "\n",
    "p = 1\n",
    "k = 1\n",
    "d = 1000\n",
    "\n",
    "n = [int(np.power(d,1/2))]\n",
    "\n",
    "## Plot Table\n",
    "labels_simulations = [f'Simulation d = {d}']\n",
    "labels_theory = [f'Theory']\n",
    "gammas = [10.*np.sqrt(1/d)]\n",
    "I3activated = [True]\n",
    "I4_diagonalactivated = [True]\n",
    "I4_offdiagonalactivated = [True]\n",
    "colors = [perfectlearning_color]\n",
    "\n",
    "noise = 1e-4\n",
    "\n",
    "T = 1\n",
    "\n",
    "seed = [2,1,2]\n",
    "read_simulation = False\n",
    "\n",
    "# Initial conditions\n",
    "# m0 = np.array([[.1,-.1],[.1,.1],[-.1,.1],[-.1,-.1]]) + np.random.normal(0,.1,(p,k))\n",
    "m0 = np.array([[.0,]]) + np.random.normal(0,.1,(p,k))\n",
    "norm = lambda w: np.linalg.norm(w, ord=2, axis=1, keepdims=True)\n",
    "\n",
    "weight_teacher = np.random.normal(0,1, (k,d))\n",
    "weight_teacher = weight_teacher / norm(weight_teacher)\n",
    "weight_teacher = orth(weight_teacher.T).T \n",
    "\n",
    "Wtild = np.random.normal(size=(p,d)) \n",
    "Wtild = Wtild / norm(Wtild) \n",
    "Wtild_over_Wtarget = np.einsum('ji,ri,rh->jh', Wtild , weight_teacher ,weight_teacher) \n",
    "\n",
    "Worth =  Wtild - Wtild_over_Wtarget\n",
    "Worth = Worth / norm(Worth) \n",
    "Worth = orth(Worth.T).T \n",
    "\n",
    "W0 = m0 @ weight_teacher + np.einsum('j,ji->ji',np.sqrt(1-np.linalg.norm(m0,ord=2,axis=1)**2),Worth)\n",
    "Wtarget = weight_teacher\n",
    "\n",
    "a0 = np.zeros((p))\n",
    "P = Wtarget @ Wtarget.T\n",
    "M0 = W0 @ Wtarget.T\n",
    "Q0 = W0 @ W0.T\n",
    "\n",
    "print(f'P = {P}')\n",
    "print(f'M0 = {M0}')\n",
    "print(f'Q0 = {Q0}')\n",
    "\n",
    "test_errors_simulation = np.zeros((len(gammas), T+1))\n",
    "test_errors_theory = np.zeros((len(gammas), T+1))\n",
    "\n",
    "\n",
    "for i,gamma in enumerate(gammas):\n",
    "    print(f'P = {P}')\n",
    "    print(f'M0 = {M0}')\n",
    "    print(f'Q0 = {Q0}')\n",
    "    gd = SphericalGradientDescent(\n",
    "        target, Wtarget, n[i],\n",
    "        activation, W0, a0, activation_derivative, \n",
    "        gamma, noise, second_layer_update = False, test_size = None, analytical_error= 'H3H3',\n",
    "        seed=seed[i]^i\n",
    "    )\n",
    "    th = SphericalH3H3Overlaps(\n",
    "        P, M0, Q0, a0,\n",
    "        gamma, noise,\n",
    "        I4_diagonal=I4_diagonalactivated[i], I4_offdiagonal=I4_offdiagonalactivated[i], I3=I3activated[i],\n",
    "        second_layer_update=False\n",
    "    )\n",
    "    print(gd.test_errors[0], th.test_errors[0])\n",
    "    \n",
    "    if read_simulation:\n",
    "        gd.test_errors = np.load(f'data_warm_startH2/Simulated, {labels_simulations[i]}_{T}.npz')['arr_0']\n",
    "    else:\n",
    "        gd.train(T, verbose=True)\n",
    "        np.savez(f'data_warm_startH2/Simulated, {labels_simulations[i]}_{T}.npz', gd.test_errors)\n",
    "    test_errors_simulation[i, :] = gd.test_errors\n",
    "\n",
    "    th.train(T, verbose=True)\n",
    "    test_errors_theory[i, :] = th.test_errors\n",
    "\n",
    "    print(th.Ms)\n",
    "\n",
    "\n"
   ]
  },
  {
   "cell_type": "code",
   "execution_count": 5,
   "metadata": {},
   "outputs": [
    {
     "name": "stdout",
     "output_type": "stream",
     "text": [
      "[[3. 3.]]\n",
      "[[3. 3.]]\n"
     ]
    },
    {
     "data": {
      "image/png": "[encoded data removed]",
      "text/plain": [
       "<Figure size 330x330 with 1 Axes>"
      ]
     },
     "metadata": {},
     "output_type": "display_data"
    }
   ],
   "source": [
    "number_of_plotted_points = 20\n",
    "\n",
    "nonoise_test_errors_simulation = test_errors_simulation - noise/2\n",
    "nonoise_test_errors_theory = test_errors_theory -noise/2\n",
    "\n",
    "# nonoise_test_errors_simulation[0] += 7.*noise\n",
    "# nonoise_test_errors_theory[2] -= noise/2\n",
    "\n",
    "print(nonoise_test_errors_simulation)\n",
    "print(nonoise_test_errors_theory)\n",
    "\n",
    "fig, ax = plt.subplots(figsize=(3.3, 3.3))\n",
    "\n",
    "for i, gamma in enumerate(gammas):\n",
    "    plotted_T = np.logspace(0,np.log10(T),num=number_of_plotted_points, dtype=int)\n",
    "    ax.plot(plotted_T,nonoise_test_errors_simulation[i][plotted_T], marker='o', linestyle='', label=labels_simulations[i], color=colors[i])\n",
    "    ax.plot(nonoise_test_errors_theory[i], linestyle='-',  color=colors[i])\n",
    "\n",
    "# ax.legend(gammas)\n",
    "ax.set_xlabel('Steps')\n",
    "ax.set_ylabel(r'$\\frac{1}{2}\\left(\\mathbb{E}[\\mathcal{E}^2]-\\Delta\\right)$')\n",
    "# ax.set_xscale('log')\n",
    "# ax.set_yscale('log')\n",
    "# ax.set_xlim(1,1e5)\n",
    "# ax.set_ylim(1e-2,5e-1)\n",
    "ax.legend()\n",
    "\n",
    "plt.savefig('figures/erf_erf_asymptotics[multindex].pdf', bbox_inches = 'tight')\n",
    "plt.show()\n"
   ]
  }
 ],
 "metadata": {
  "kernelspec": {
   "display_name": "venv",
   "language": "python",
   "name": "python3"
  },
  "language_info": {
   "codemirror_mode": {
    "name": "ipython",
    "version": 3
   },
   "file_extension": ".py",
   "mimetype": "text/x-python",
   "name": "python",
   "nbconvert_exporter": "python",
   "pygments_lexer": "ipython3",
   "version": "3.11.7"
  }
 },
 "nbformat": 4,
 "nbformat_minor": 2
}
