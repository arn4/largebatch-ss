{
 "cells": [
  {
   "cell_type": "code",
   "execution_count": 78,
   "metadata": {},
   "outputs": [],
   "source": [
    "import matplotlib.pyplot as plt\n",
    "\n",
    "plt.rcParams['text.usetex'] = True\n",
    "plt.rcParams['text.latex.preamble'] = r'\\usepackage{amsfonts}'\n",
    "\n",
    "allowed_color = 'Green'\n",
    "polylog_color = 'Black'\n",
    "noyhat_color = 'Orange'\n",
    "giantstep_color = 'Blue'\n",
    "notallowed_color = 'Red'\n",
    "processnotdefined_color = 'Purple'\n",
    "sweetspot_color = 'cyan'"
   ]
  },
  {
   "cell_type": "code",
   "execution_count": 79,
   "metadata": {},
   "outputs": [
    {
     "name": "stdout",
     "output_type": "stream",
     "text": [
      "P = [[1.]]\n",
      "M0 = [[0.03162278]]\n",
      "Q0 = [[1.]]\n"
     ]
    },
    {
     "name": "stderr",
     "output_type": "stream",
     "text": [
      "100%|██████████| 11500/11500 [00:01<00:00, 11049.18it/s]\n",
      "100%|██████████| 11500/11500 [00:00<00:00, 16861.55it/s]\n"
     ]
    }
   ],
   "source": [
    "from giant_learning.poly_poly import SphericalH3H3Overlaps\n",
    "from giant_learning.gradient_descent import SphericalGradientDescent\n",
    "\n",
    "import numpy as np\n",
    "from sklearn.preprocessing import normalize\n",
    "from scipy.linalg import orth\n",
    "\n",
    "p = 1\n",
    "k = 1\n",
    "d = 1000\n",
    "T = 11500\n",
    "# T = 3\n",
    "noise = 1e-6\n",
    "n = int(np.power(d,.8))\n",
    "t = 1./np.sqrt(d)  \n",
    "gamma = .01*n * p * np.power(d,-3/2)\n",
    "seed = 0\n",
    "\n",
    "theo_plainsgd_test_errors = np.zeros((T+1))\n",
    "theo_correlationsgd_test_errors = np.zeros((T+1))\n",
    "theo_adaptivesgd_test_errors = np.zeros((T+1))\n",
    "\n",
    "## Initial conditions\n",
    "rng = np.random.default_rng(seed+1)\n",
    "Wtarget = orth((normalize(rng.normal(size=(k,d)), axis=1, norm='l2')).T).T\n",
    "Wtild = normalize(rng.normal(size=(p,d)), axis=1, norm='l2')\n",
    "Wtild_target = np.einsum('ji,ri,rh->jh', Wtild , Wtarget ,Wtarget)\n",
    "W0_orth =  normalize(Wtild - Wtild_target, axis=1, norm='l2')\n",
    "W0 = -(t*normalize(Wtild_target,norm='l2',axis=1) + np.sqrt(1-t**2)*W0_orth)\n",
    "\n",
    "\n",
    "P = Wtarget @ Wtarget.T\n",
    "M0 = W0 @ Wtarget.T\n",
    "Q0 = W0 @ W0.T\n",
    "a0 = np.ones(p) \n",
    "\n",
    "if M0[0][0] <0:\n",
    "    M0 = -M0\n",
    "    W0 = -W0\n",
    "\n",
    "print(f'P = {P}')\n",
    "print(f'M0 = {M0}')\n",
    "print(f'Q0 = {Q0}')\n",
    "\n",
    "\n",
    "\n",
    "## Theoretical predictions\n",
    "theo_plain = SphericalH3H3Overlaps(\n",
    "    P, M0, Q0, a0,\n",
    "    gamma, noise,\n",
    "    I4_diagonal=d/n, I4_offdiagonal=True,\n",
    "    predictor_interaction=True\n",
    ")\n",
    "\n",
    "theo_corr = SphericalH3H3Overlaps(\n",
    "    P, M0, Q0, a0,\n",
    "    gamma, noise,\n",
    "    I4_diagonal=d/n, I4_offdiagonal=True,\n",
    "    predictor_interaction=False\n",
    ")\n",
    "\n",
    "\n",
    "theo_plain.train(T, verbose = True)\n",
    "theo_corr.train(T, verbose = True)\n",
    "\n",
    "theo_plainsgd_test_errors = np.array(theo_plain.test_errors)\n",
    "theo_correlationsgd_test_errors = np.array(theo_corr.test_errors)\n",
    "\n",
    "\n"
   ]
  },
  {
   "cell_type": "code",
   "execution_count": 80,
   "metadata": {},
   "outputs": [
    {
     "data": {
      "image/png": "[encoded data removed]",
      "text/plain": [
       "<Figure size 310x250 with 1 Axes>"
      ]
     },
     "metadata": {},
     "output_type": "display_data"
    }
   ],
   "source": [
    "fig, ax = plt.subplots(1,1,figsize=(3.1,2.5))\n",
    "\n",
    "\n",
    "ax.plot(theo_correlationsgd_test_errors, label=f'Correlation Loss SGD Theory', marker='.', linestyle='-', color='blue')\n",
    "ax.plot(theo_plainsgd_test_errors, label=f'SGD Theory', marker='', linestyle='-', color='red')\n",
    "\n",
    "ax.set_xscale('log')\n",
    "# ax.set_yscale('log')\n",
    "ax.set_xlabel('Steps')\n",
    "ax.set_ylabel('Test error')\n",
    "# ax.set_xlim([0,250])\n",
    "ax.set_ylim([2,6.5])\n",
    "ax.legend(fontsize=8, loc='lower left')\n",
    "\n",
    "plt.savefig('figures/different_SGDs.pdf', bbox_inches = 'tight')\n",
    "\n"
   ]
  }
 ],
 "metadata": {
  "kernelspec": {
   "display_name": "venv",
   "language": "python",
   "name": "python3"
  },
  "language_info": {
   "codemirror_mode": {
    "name": "ipython",
    "version": 3
   },
   "file_extension": ".py",
   "mimetype": "text/x-python",
   "name": "python",
   "nbconvert_exporter": "python",
   "pygments_lexer": "ipython3",
   "version": "3.11.7"
  }
 },
 "nbformat": 4,
 "nbformat_minor": 2
}
