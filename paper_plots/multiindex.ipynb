{
 "cells": [
  {
   "cell_type": "code",
   "execution_count": 1,
   "metadata": {},
   "outputs": [],
   "source": [
    "import matplotlib.pyplot as plt\n",
    "\n",
    "plt.rcParams['text.usetex'] = True\n",
    "plt.rcParams['text.latex.preamble'] = r'\\usepackage{amsfonts}'\n",
    "\n",
    "allowed_color = 'Green'\n",
    "polylog_color = 'Black'\n",
    "noyhat_color = 'Orange'\n",
    "giantstep_color = 'Blue'\n",
    "notallowed_color = 'Red'\n",
    "processnotdefined_color = 'Purple'\n",
    "sweetspot_color = 'cyan'"
   ]
  },
  {
   "cell_type": "code",
   "execution_count": 2,
   "metadata": {},
   "outputs": [
    {
     "name": "stderr",
     "output_type": "stream",
     "text": [
      "100%|██████████| 113636/113636 [18:33<00:00, 102.02it/s]\n",
      "100%|██████████| 4882/4882 [05:07<00:00, 15.88it/s]\n",
      "100%|██████████| 215/215 [03:45<00:00,  1.05s/it]\n"
     ]
    }
   ],
   "source": [
    "from giant_learning.poly_poly import ProjectedH3H3Overlaps\n",
    "from giant_learning.gradient_descent import ProjectedGradientDescent\n",
    "\n",
    "import numpy as np\n",
    "from sklearn.preprocessing import normalize\n",
    "from scipy.linalg import orth\n",
    "\n",
    "l=3\n",
    "mus = [l/6, l/3, l/2]\n",
    "gamma_prefactor = .01\n",
    "\n",
    "p = 30\n",
    "k = 3\n",
    "d = 2**9\n",
    "noise = 1e-6\n",
    "t = 1./np.sqrt(d)  \n",
    "seed = 2\n",
    "ic_seed = 0\n",
    "\n",
    "target = lambda z: np.tanh(z[0]*z[1]*z[2])\n",
    "activation = lambda x: np.tanh(x)\n",
    "activation_derivative = lambda x: 1 - np.tanh(x)**2\n",
    "\n",
    "\n",
    "sim_plainsgd_test_errors = []\n",
    "sim_plainsgd_meancorrelation = []\n",
    "\n",
    "for mu in mus:\n",
    "    n = int(np.power(d,mu))\n",
    "    T = 2500000 // n\n",
    "    gamma = gamma_prefactor * n * p * np.power(  d,-3/2)\n",
    "\n",
    "    ## Initial condition\n",
    "    rng = np.random.default_rng(ic_seed)\n",
    "    init_corr = 1/np.sqrt(d)\n",
    "    Wtarget = orth((normalize(rng.normal(size=(k,d)), axis=1, norm='l2')).T).T\n",
    "    Wtild = normalize(rng.normal(size=(p,d)), axis=1, norm='l2')\n",
    "    Wtild_target = np.einsum('ji,ri,rh->jh', Wtild , Wtarget ,Wtarget)\n",
    "    W0_orth =  normalize(Wtild - Wtild_target, axis=1, norm='l2')\n",
    "    W0 = (init_corr*normalize(Wtild_target,norm='l2',axis=1) + np.sqrt(1-init_corr**2)*W0_orth)\n",
    "    a0 = rng.binomial(1, 0.5, p) * 2 - 1\n",
    "\n",
    "    P = Wtarget @ Wtarget.T\n",
    "    M0 = W0 @ Wtarget.T\n",
    "    Q0 = W0 @ W0.T\n",
    "\n",
    "    gd_plain = ProjectedGradientDescent(\n",
    "        target, Wtarget, n,\n",
    "        activation, W0, a0, activation_derivative,\n",
    "        gamma, noise, predictor_interaction=True,\n",
    "        test_size = None, analytical_error= 'H3H3',\n",
    "        seed = seed\n",
    "    )\n",
    "\n",
    "\n",
    "    gd_plain.train(T, verbose = True)\n",
    "\n",
    "    sim_plainsgd_test_errors.append(np.array(gd_plain.test_errors))\n",
    "\n",
    "    def compute_mean_correlation(gd):\n",
    "        Ws = np.array(gd.W_s)\n",
    "        Wt = np.array(gd.W_target)\n",
    "        Ms = np.einsum('tia,ja->tij', Ws, Wt)\n",
    "        return np.max(Ms, axis=(1,2))\n",
    "    sim_plainsgd_meancorrelation.append(compute_mean_correlation(gd_plain))"
   ]
  },
  {
   "cell_type": "code",
   "execution_count": 3,
   "metadata": {},
   "outputs": [
    {
     "data": {
      "image/png": "[encoded data removed]",
      "text/plain": [
       "<Figure size 300x300 with 1 Axes>"
      ]
     },
     "metadata": {},
     "output_type": "display_data"
    }
   ],
   "source": [
    "fig, ax = plt.subplots(1,1,figsize=(3,3))\n",
    "\n",
    "for i,mu in enumerate(mus):\n",
    "    T = len(sim_plainsgd_meancorrelation[i])\n",
    "    # Test error\n",
    "    R0 = 1.0\n",
    "    # ax.plot(sim_correlationsgd_test_errors/R0, label=f'Correlation Loss SGD', marker='', ls='-', color='blue')\n",
    "    # ax.plot(sim_plainsgd_test_errors/R0, label=f'SGD', marker='', ls='-', color='red')\n",
    "    # Correlation M\n",
    "    ax.plot(sim_plainsgd_meancorrelation[i][:int(.8*T)], label=f'$\\\\mu={mu}$', marker='.', ls='')\n",
    "\n",
    "\n",
    "ax.set_xscale('log')\n",
    "# ax.set_yscale('log')\n",
    "ax.set_xlabel('Steps')\n",
    "ax.set_ylabel(r'$\\max{m_i}$')\n",
    "# ax.set_xlim([0,T])\n",
    "# ax.set_ylim([2,5])\n",
    "ax.legend(fontsize=8, loc='upper left')\n",
    "\n",
    "plt.savefig(f'figures/multiindex_mu.pdf', bbox_inches = 'tight')\n",
    "\n"
   ]
  }
 ],
 "metadata": {
  "kernelspec": {
   "display_name": "venv",
   "language": "python",
   "name": "python3"
  },
  "language_info": {
   "codemirror_mode": {
    "name": "ipython",
    "version": 3
   },
   "file_extension": ".py",
   "mimetype": "text/x-python",
   "name": "python",
   "nbconvert_exporter": "python",
   "pygments_lexer": "ipython3",
   "version": "3.11.7"
  }
 },
 "nbformat": 4,
 "nbformat_minor": 2
}
