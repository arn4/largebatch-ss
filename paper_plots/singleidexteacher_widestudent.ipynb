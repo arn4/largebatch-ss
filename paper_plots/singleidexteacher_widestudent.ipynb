{
 "cells": [
  {
   "cell_type": "code",
   "execution_count": 20,
   "metadata": {},
   "outputs": [],
   "source": [
    "import matplotlib.pyplot as plt\n",
    "\n",
    "plt.rcParams['text.usetex'] = True\n",
    "plt.rcParams['text.latex.preamble'] = r'\\usepackage{amsfonts}'\n",
    "\n",
    "allowed_color = 'Green'\n",
    "polylog_color = 'Black'\n",
    "noyhat_color = 'Orange'\n",
    "giantstep_color = 'Blue'\n",
    "notallowed_color = 'Red'\n",
    "processnotdefined_color = 'Purple'\n",
    "sweetspot_color = 'cyan'"
   ]
  },
  {
   "cell_type": "code",
   "execution_count": 21,
   "metadata": {},
   "outputs": [
    {
     "name": "stdout",
     "output_type": "stream",
     "text": [
      "[[0.0625]\n",
      " [0.0625]\n",
      " [0.0625]\n",
      " [0.0625]]\n",
      "[[ 1.         -0.00600945  0.131116    0.04622446]\n",
      " [-0.00600945  1.          0.03819305 -0.07185608]\n",
      " [ 0.131116    0.03819305  1.          0.06881447]\n",
      " [ 0.04622446 -0.07185608  0.06881447  1.        ]]\n"
     ]
    },
    {
     "name": "stderr",
     "output_type": "stream",
     "text": [
      "100%|██████████| 50/50 [00:13<00:00,  3.58it/s]\n",
      "100%|██████████| 50/50 [00:09<00:00,  5.04it/s]\n"
     ]
    }
   ],
   "source": [
    "from giant_learning.poly_poly import ProjectedH3H3Overlaps\n",
    "from giant_learning.gradient_descent import ProjectedGradientDescent\n",
    "\n",
    "import numpy as np\n",
    "from sklearn.preprocessing import normalize\n",
    "from scipy.linalg import orth\n",
    "\n",
    "## Changiable parameters\n",
    "# mu = 1; T = 3000; gamma_prefactor = .005; seed = 2\n",
    "mu = 1.75; T = 50; gamma_prefactor = .32; seed = 2\n",
    "##\n",
    "\n",
    "p = 4\n",
    "k = 1\n",
    "d = 2**8\n",
    "noise = 1e-6\n",
    "n = int(np.power(d,mu))\n",
    "t = 1./np.sqrt(d)  \n",
    "gamma = gamma_prefactor * n * p * np.power(d,-3/2)\n",
    "ic_seed = 0\n",
    "\n",
    "target = ProjectedH3H3Overlaps._target\n",
    "activation = ProjectedH3H3Overlaps._activation\n",
    "activation_derivative = ProjectedH3H3Overlaps._activation_derivative\n",
    "offdiag = (False if n == 1 else True)\n",
    "\n",
    "\n",
    "sim_plainsgd_test_errors = np.zeros((T+1))\n",
    "sim_correlationsgd_test_errors = np.zeros((T+1))\n",
    "sim_adaptivesgd_test_errors = np.zeros((T+1))\n",
    "theo_plainsgd_test_errors = np.zeros((T+1))\n",
    "theo_correlationsgd_test_errors = np.zeros((T+1))\n",
    "theo_adaptivesgd_test_errors = np.zeros((T+1))\n",
    "\n",
    "## Initial condition\n",
    "rng = np.random.default_rng(ic_seed)\n",
    "init_corr = 1/np.sqrt(d)\n",
    "Wtarget = orth((normalize(rng.normal(size=(k,d)), axis=1, norm='l2')).T).T\n",
    "Wtild = normalize(rng.normal(size=(p,d)), axis=1, norm='l2')\n",
    "Wtild_target = np.einsum('ji,ri,rh->jh', Wtild , Wtarget ,Wtarget)\n",
    "W0_orth =  normalize(Wtild - Wtild_target, axis=1, norm='l2')\n",
    "W0 = (init_corr*normalize(Wtild_target,norm='l2',axis=1) + np.sqrt(1-init_corr**2)*W0_orth)\n",
    "a0 = np.ones(p)\n",
    "\n",
    "P = Wtarget @ Wtarget.T\n",
    "M0 = W0 @ Wtarget.T\n",
    "Q0 = W0 @ W0.T\n",
    "\n",
    "# Assert same \n",
    "for i in range(p):\n",
    "    if M0[i][0] < 0:\n",
    "        W0[i] = -W0[i]\n",
    "        M0[i] = -M0[i]\n",
    "        Q0[i] = -Q0[i]\n",
    "        Q0[:,i] = -Q0[:,i]\n",
    "print(M0)\n",
    "print(Q0)\n",
    "\n",
    "gd_plain = ProjectedGradientDescent(\n",
    "    target, Wtarget, n,\n",
    "    activation, W0, a0, activation_derivative,\n",
    "    gamma, noise, predictor_interaction=True,\n",
    "    test_size = None, analytical_error= 'H3H3',\n",
    "    seed = seed\n",
    ")\n",
    "\n",
    "gd_corr = ProjectedGradientDescent(\n",
    "    target, Wtarget, n,\n",
    "    activation, W0, a0, activation_derivative,\n",
    "    gamma, noise, predictor_interaction=False,\n",
    "    test_size = None, analytical_error= 'H3H3',\n",
    "    seed = seed\n",
    ")\n",
    "\n",
    "gd_adaptive = ProjectedGradientDescent(\n",
    "    target, Wtarget, n,\n",
    "    activation, W0, a0, activation_derivative,\n",
    "    gamma, noise, predictor_interaction='adaptive',\n",
    "    test_size = None, analytical_error= 'H3H3',\n",
    "    seed = seed\n",
    ")\n",
    "\n",
    "gd_adaptive._adaptive_percentage_threshold = 0.6\n",
    "\n",
    "gd_plain.train(T, verbose = True)\n",
    "gd_corr.train(T, verbose = True)\n",
    "\n",
    "sim_plainsgd_test_errors = np.array(gd_plain.test_errors)\n",
    "sim_correlationsgd_test_errors = np.array(gd_corr.test_errors)\n",
    "\n",
    "def compute_mean_correlation(gd):\n",
    "    Ws = np.array(gd.W_s)\n",
    "    Wt = np.array(gd.W_target)\n",
    "    Ms = np.einsum('tia,ja->tij', Ws, Wt)\n",
    "    return np.max(Ms, axis=(1,2))\n",
    "sim_plainsgd_meancorrelation = compute_mean_correlation(gd_plain)\n",
    "sim_correlationsgd_meancorrelation = compute_mean_correlation(gd_corr)"
   ]
  },
  {
   "cell_type": "code",
   "execution_count": 22,
   "metadata": {},
   "outputs": [
    {
     "data": {
      "image/png": "[encoded data removed]",
      "text/plain": [
       "<Figure size 310x250 with 1 Axes>"
      ]
     },
     "metadata": {},
     "output_type": "display_data"
    }
   ],
   "source": [
    "fig, ax = plt.subplots(1,1,figsize=(3.1,2.5))\n",
    "\n",
    "Ts = np.arange(T+1)\n",
    "plot_every = 1\n",
    "\n",
    "# Test error\n",
    "R0 = 1.0\n",
    "# ax.plot(sim_correlationsgd_test_errors/R0, label=f'Correlation Loss SGD', marker='', ls='-', color='blue')\n",
    "# ax.plot(sim_plainsgd_test_errors/R0, label=f'SGD', marker='', ls='-', color='red')\n",
    "\n",
    "# Correlation M\n",
    "ax.plot(Ts[::plot_every], sim_correlationsgd_meancorrelation[::plot_every], label=f'Correlation Loss SGD', marker='.', ls='', color='blue')\n",
    "ax.plot(Ts[::plot_every], sim_plainsgd_meancorrelation[::plot_every], label=f'SGD', marker='.', ls='', color='red')\n",
    "\n",
    "# ax.set_xscale('log')\n",
    "# ax.set_yscale('log')\n",
    "ax.set_xlabel('Steps')\n",
    "ax.set_ylabel(r'$\\max{m_i}$')\n",
    "ax.set_xlim([0,T])\n",
    "ax.set_title(f'$\\\\mu={mu}$')\n",
    "# ax.set_ylim([2,5])\n",
    "ax.legend(fontsize=8)\n",
    "\n",
    "plt.savefig(f'figures/singleidexteacher_widestudent_mu{mu}.pdf', bbox_inches = 'tight')\n",
    "\n"
   ]
  }
 ],
 "metadata": {
  "kernelspec": {
   "display_name": "venv",
   "language": "python",
   "name": "python3"
  },
  "language_info": {
   "codemirror_mode": {
    "name": "ipython",
    "version": 3
   },
   "file_extension": ".py",
   "mimetype": "text/x-python",
   "name": "python",
   "nbconvert_exporter": "python",
   "pygments_lexer": "ipython3",
   "version": "3.11.7"
  }
 },
 "nbformat": 4,
 "nbformat_minor": 2
}
