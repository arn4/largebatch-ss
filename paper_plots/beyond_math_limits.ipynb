{
 "cells": [
  {
   "cell_type": "code",
   "execution_count": 20,
   "metadata": {},
   "outputs": [],
   "source": [
    "import matplotlib.pyplot as plt\n",
    "\n",
    "plt.rcParams['text.usetex'] = True\n",
    "plt.rcParams['text.latex.preamble'] = r'\\usepackage{amsfonts}'\n",
    "\n",
    "allowed_color = 'Green'\n",
    "polylog_color = 'Black'\n",
    "noyhat_color = 'Orange'\n",
    "giantstep_color = 'Blue'\n",
    "notallowed_color = 'Red'\n",
    "processnotdefined_color = 'Purple'\n",
    "sweetspot_color = 'cyan'"
   ]
  },
  {
   "cell_type": "code",
   "execution_count": 21,
   "metadata": {},
   "outputs": [
    {
     "name": "stdout",
     "output_type": "stream",
     "text": [
      "P = [[1.]]\n",
      "M0 = [[0.08838835]]\n",
      "Q0 = [[1.]]\n"
     ]
    },
    {
     "name": "stderr",
     "output_type": "stream",
     "text": [
      "100%|██████████| 10000/10000 [00:01<00:00, 7286.46it/s]\n",
      "100%|██████████| 10000/10000 [00:00<00:00, 11256.66it/s]\n"
     ]
    },
    {
     "name": "stdout",
     "output_type": "stream",
     "text": [
      "P = [[1.]]\n",
      "M0 = [[-0.08838835]]\n",
      "Q0 = [[1.]]\n"
     ]
    },
    {
     "name": "stderr",
     "output_type": "stream",
     "text": [
      "100%|██████████| 10000/10000 [00:01<00:00, 7678.81it/s]\n",
      "100%|██████████| 10000/10000 [00:00<00:00, 11920.17it/s]\n"
     ]
    },
    {
     "name": "stdout",
     "output_type": "stream",
     "text": [
      "P = [[1.]]\n",
      "M0 = [[-0.08838835]]\n",
      "Q0 = [[1.]]\n"
     ]
    },
    {
     "name": "stderr",
     "output_type": "stream",
     "text": [
      "100%|██████████| 10000/10000 [00:01<00:00, 7634.87it/s]\n",
      "100%|██████████| 10000/10000 [00:00<00:00, 11838.42it/s]\n"
     ]
    },
    {
     "name": "stdout",
     "output_type": "stream",
     "text": [
      "P = [[1.]]\n",
      "M0 = [[-0.08838835]]\n",
      "Q0 = [[1.]]\n"
     ]
    },
    {
     "name": "stderr",
     "output_type": "stream",
     "text": [
      "100%|██████████| 10000/10000 [00:01<00:00, 7426.66it/s]\n",
      "100%|██████████| 10000/10000 [00:00<00:00, 11709.73it/s]\n"
     ]
    },
    {
     "name": "stdout",
     "output_type": "stream",
     "text": [
      "P = [[1.]]\n",
      "M0 = [[0.08838835]]\n",
      "Q0 = [[1.]]\n"
     ]
    },
    {
     "name": "stderr",
     "output_type": "stream",
     "text": [
      "100%|██████████| 10000/10000 [00:01<00:00, 7533.87it/s]\n",
      "100%|██████████| 10000/10000 [00:00<00:00, 11803.49it/s]\n"
     ]
    },
    {
     "name": "stdout",
     "output_type": "stream",
     "text": [
      "P = [[1.]]\n",
      "M0 = [[0.08838835]]\n",
      "Q0 = [[1.]]\n"
     ]
    },
    {
     "name": "stderr",
     "output_type": "stream",
     "text": [
      "100%|██████████| 10000/10000 [00:01<00:00, 7539.51it/s]\n",
      "100%|██████████| 10000/10000 [00:00<00:00, 11718.58it/s]\n"
     ]
    },
    {
     "name": "stdout",
     "output_type": "stream",
     "text": [
      "P = [[1.]]\n",
      "M0 = [[-0.08838835]]\n",
      "Q0 = [[1.]]\n"
     ]
    },
    {
     "name": "stderr",
     "output_type": "stream",
     "text": [
      "100%|██████████| 10000/10000 [00:01<00:00, 7588.68it/s]\n",
      "100%|██████████| 10000/10000 [00:00<00:00, 11612.42it/s]\n"
     ]
    },
    {
     "name": "stdout",
     "output_type": "stream",
     "text": [
      "P = [[1.]]\n",
      "M0 = [[0.08838835]]\n",
      "Q0 = [[1.]]\n"
     ]
    },
    {
     "name": "stderr",
     "output_type": "stream",
     "text": [
      "100%|██████████| 10000/10000 [00:01<00:00, 7584.51it/s]\n",
      "100%|██████████| 10000/10000 [00:00<00:00, 11435.63it/s]\n"
     ]
    },
    {
     "name": "stdout",
     "output_type": "stream",
     "text": [
      "P = [[1.]]\n",
      "M0 = [[-0.08838835]]\n",
      "Q0 = [[1.]]\n"
     ]
    },
    {
     "name": "stderr",
     "output_type": "stream",
     "text": [
      "100%|██████████| 10000/10000 [00:01<00:00, 7518.98it/s]\n",
      "100%|██████████| 10000/10000 [00:00<00:00, 11686.19it/s]\n"
     ]
    },
    {
     "name": "stdout",
     "output_type": "stream",
     "text": [
      "P = [[1.]]\n",
      "M0 = [[-0.08838835]]\n",
      "Q0 = [[1.]]\n"
     ]
    },
    {
     "name": "stderr",
     "output_type": "stream",
     "text": [
      "100%|██████████| 10000/10000 [00:01<00:00, 7719.00it/s]\n",
      "100%|██████████| 10000/10000 [00:00<00:00, 12005.87it/s]\n"
     ]
    },
    {
     "name": "stdout",
     "output_type": "stream",
     "text": [
      "P = [[1.]]\n",
      "M0 = [[-0.08838835]]\n",
      "Q0 = [[1.]]\n"
     ]
    },
    {
     "name": "stderr",
     "output_type": "stream",
     "text": [
      "100%|██████████| 10000/10000 [00:01<00:00, 7589.84it/s]\n",
      "100%|██████████| 10000/10000 [00:00<00:00, 11916.55it/s]\n"
     ]
    },
    {
     "name": "stdout",
     "output_type": "stream",
     "text": [
      "P = [[1.]]\n",
      "M0 = [[0.08838835]]\n",
      "Q0 = [[1.]]\n"
     ]
    },
    {
     "name": "stderr",
     "output_type": "stream",
     "text": [
      "100%|██████████| 10000/10000 [00:01<00:00, 7639.91it/s]\n",
      "100%|██████████| 10000/10000 [00:00<00:00, 11830.33it/s]\n"
     ]
    },
    {
     "name": "stdout",
     "output_type": "stream",
     "text": [
      "P = [[1.]]\n",
      "M0 = [[-0.08838835]]\n",
      "Q0 = [[1.]]\n"
     ]
    },
    {
     "name": "stderr",
     "output_type": "stream",
     "text": [
      "100%|██████████| 10000/10000 [00:01<00:00, 7575.82it/s]\n",
      "100%|██████████| 10000/10000 [00:00<00:00, 11545.33it/s]\n"
     ]
    },
    {
     "name": "stdout",
     "output_type": "stream",
     "text": [
      "P = [[1.]]\n",
      "M0 = [[0.08838835]]\n",
      "Q0 = [[1.]]\n"
     ]
    },
    {
     "name": "stderr",
     "output_type": "stream",
     "text": [
      "100%|██████████| 10000/10000 [00:01<00:00, 7675.41it/s]\n",
      "100%|██████████| 10000/10000 [00:00<00:00, 11954.03it/s]\n"
     ]
    },
    {
     "name": "stdout",
     "output_type": "stream",
     "text": [
      "P = [[1.]]\n",
      "M0 = [[0.08838835]]\n",
      "Q0 = [[1.]]\n"
     ]
    },
    {
     "name": "stderr",
     "output_type": "stream",
     "text": [
      "100%|██████████| 10000/10000 [00:01<00:00, 7687.22it/s]\n",
      "100%|██████████| 10000/10000 [00:00<00:00, 11869.54it/s]\n"
     ]
    },
    {
     "name": "stdout",
     "output_type": "stream",
     "text": [
      "P = [[1.]]\n",
      "M0 = [[-0.08838835]]\n",
      "Q0 = [[1.]]\n"
     ]
    },
    {
     "name": "stderr",
     "output_type": "stream",
     "text": [
      "100%|██████████| 10000/10000 [00:01<00:00, 7579.07it/s]\n",
      "100%|██████████| 10000/10000 [00:00<00:00, 11832.55it/s]\n"
     ]
    },
    {
     "name": "stdout",
     "output_type": "stream",
     "text": [
      "P = [[1.]]\n",
      "M0 = [[0.08838835]]\n",
      "Q0 = [[1.]]\n"
     ]
    },
    {
     "name": "stderr",
     "output_type": "stream",
     "text": [
      "100%|██████████| 10000/10000 [00:01<00:00, 7499.75it/s]\n",
      "100%|██████████| 10000/10000 [00:00<00:00, 11880.09it/s]\n"
     ]
    },
    {
     "name": "stdout",
     "output_type": "stream",
     "text": [
      "P = [[1.]]\n",
      "M0 = [[0.08838835]]\n",
      "Q0 = [[1.]]\n"
     ]
    },
    {
     "name": "stderr",
     "output_type": "stream",
     "text": [
      "100%|██████████| 10000/10000 [00:01<00:00, 7614.67it/s]\n",
      "100%|██████████| 10000/10000 [00:00<00:00, 11793.79it/s]\n"
     ]
    },
    {
     "name": "stdout",
     "output_type": "stream",
     "text": [
      "P = [[1.]]\n",
      "M0 = [[0.08838835]]\n",
      "Q0 = [[1.]]\n"
     ]
    },
    {
     "name": "stderr",
     "output_type": "stream",
     "text": [
      "100%|██████████| 10000/10000 [00:01<00:00, 7589.37it/s]\n",
      "100%|██████████| 10000/10000 [00:00<00:00, 11696.67it/s]\n"
     ]
    },
    {
     "name": "stdout",
     "output_type": "stream",
     "text": [
      "P = [[1.]]\n",
      "M0 = [[-0.08838835]]\n",
      "Q0 = [[1.]]\n"
     ]
    },
    {
     "name": "stderr",
     "output_type": "stream",
     "text": [
      "100%|██████████| 10000/10000 [00:01<00:00, 7581.81it/s]\n",
      "100%|██████████| 10000/10000 [00:00<00:00, 11816.64it/s]\n"
     ]
    },
    {
     "name": "stdout",
     "output_type": "stream",
     "text": [
      "P = [[1.]]\n",
      "M0 = [[-0.0625]]\n",
      "Q0 = [[1.]]\n"
     ]
    },
    {
     "name": "stderr",
     "output_type": "stream",
     "text": [
      "100%|██████████| 10000/10000 [00:01<00:00, 5301.92it/s]\n",
      "100%|██████████| 10000/10000 [00:01<00:00, 8058.83it/s]\n"
     ]
    },
    {
     "name": "stdout",
     "output_type": "stream",
     "text": [
      "P = [[1.]]\n",
      "M0 = [[0.0625]]\n",
      "Q0 = [[1.]]\n"
     ]
    },
    {
     "name": "stderr",
     "output_type": "stream",
     "text": [
      "100%|██████████| 10000/10000 [00:01<00:00, 5316.39it/s]\n",
      "100%|██████████| 10000/10000 [00:01<00:00, 7983.04it/s]\n"
     ]
    },
    {
     "name": "stdout",
     "output_type": "stream",
     "text": [
      "P = [[1.]]\n",
      "M0 = [[0.0625]]\n",
      "Q0 = [[1.]]\n"
     ]
    },
    {
     "name": "stderr",
     "output_type": "stream",
     "text": [
      "100%|██████████| 10000/10000 [00:01<00:00, 5303.56it/s]\n",
      "100%|██████████| 10000/10000 [00:01<00:00, 8033.73it/s]\n"
     ]
    },
    {
     "name": "stdout",
     "output_type": "stream",
     "text": [
      "P = [[1.]]\n",
      "M0 = [[0.0625]]\n",
      "Q0 = [[1.]]\n"
     ]
    },
    {
     "name": "stderr",
     "output_type": "stream",
     "text": [
      "100%|██████████| 10000/10000 [00:01<00:00, 5299.27it/s]\n",
      "100%|██████████| 10000/10000 [00:01<00:00, 8024.47it/s]\n"
     ]
    },
    {
     "name": "stdout",
     "output_type": "stream",
     "text": [
      "P = [[1.]]\n",
      "M0 = [[-0.0625]]\n",
      "Q0 = [[1.]]\n"
     ]
    },
    {
     "name": "stderr",
     "output_type": "stream",
     "text": [
      "100%|██████████| 10000/10000 [00:01<00:00, 5273.63it/s]\n",
      "100%|██████████| 10000/10000 [00:01<00:00, 8011.90it/s]\n"
     ]
    },
    {
     "name": "stdout",
     "output_type": "stream",
     "text": [
      "P = [[1.]]\n",
      "M0 = [[-0.0625]]\n",
      "Q0 = [[1.]]\n"
     ]
    },
    {
     "name": "stderr",
     "output_type": "stream",
     "text": [
      "100%|██████████| 10000/10000 [00:01<00:00, 5305.06it/s]\n",
      "100%|██████████| 10000/10000 [00:01<00:00, 7898.21it/s]\n"
     ]
    },
    {
     "name": "stdout",
     "output_type": "stream",
     "text": [
      "P = [[1.]]\n",
      "M0 = [[-0.0625]]\n",
      "Q0 = [[1.]]\n"
     ]
    },
    {
     "name": "stderr",
     "output_type": "stream",
     "text": [
      "100%|██████████| 10000/10000 [00:01<00:00, 5292.41it/s]\n",
      "100%|██████████| 10000/10000 [00:01<00:00, 7960.60it/s]\n"
     ]
    },
    {
     "name": "stdout",
     "output_type": "stream",
     "text": [
      "P = [[1.]]\n",
      "M0 = [[-0.0625]]\n",
      "Q0 = [[1.]]\n"
     ]
    },
    {
     "name": "stderr",
     "output_type": "stream",
     "text": [
      "100%|██████████| 10000/10000 [00:01<00:00, 5271.61it/s]\n",
      "100%|██████████| 10000/10000 [00:01<00:00, 7992.54it/s]\n"
     ]
    },
    {
     "name": "stdout",
     "output_type": "stream",
     "text": [
      "P = [[1.]]\n",
      "M0 = [[0.0625]]\n",
      "Q0 = [[1.]]\n"
     ]
    },
    {
     "name": "stderr",
     "output_type": "stream",
     "text": [
      "100%|██████████| 10000/10000 [00:01<00:00, 5267.52it/s]\n",
      "100%|██████████| 10000/10000 [00:01<00:00, 8034.80it/s]\n"
     ]
    },
    {
     "name": "stdout",
     "output_type": "stream",
     "text": [
      "P = [[1.]]\n",
      "M0 = [[-0.0625]]\n",
      "Q0 = [[1.]]\n"
     ]
    },
    {
     "name": "stderr",
     "output_type": "stream",
     "text": [
      "100%|██████████| 10000/10000 [00:02<00:00, 4302.23it/s]\n",
      "100%|██████████| 10000/10000 [00:01<00:00, 8026.47it/s]\n"
     ]
    },
    {
     "name": "stdout",
     "output_type": "stream",
     "text": [
      "P = [[1.]]\n",
      "M0 = [[-0.0625]]\n",
      "Q0 = [[1.]]\n"
     ]
    },
    {
     "name": "stderr",
     "output_type": "stream",
     "text": [
      "100%|██████████| 10000/10000 [00:01<00:00, 5284.99it/s]\n",
      "100%|██████████| 10000/10000 [00:01<00:00, 8029.56it/s]\n"
     ]
    },
    {
     "name": "stdout",
     "output_type": "stream",
     "text": [
      "P = [[1.]]\n",
      "M0 = [[0.0625]]\n",
      "Q0 = [[1.]]\n"
     ]
    },
    {
     "name": "stderr",
     "output_type": "stream",
     "text": [
      "100%|██████████| 10000/10000 [00:01<00:00, 5218.76it/s]\n",
      "100%|██████████| 10000/10000 [00:01<00:00, 8122.33it/s]\n"
     ]
    },
    {
     "name": "stdout",
     "output_type": "stream",
     "text": [
      "P = [[1.]]\n",
      "M0 = [[-0.0625]]\n",
      "Q0 = [[1.]]\n"
     ]
    },
    {
     "name": "stderr",
     "output_type": "stream",
     "text": [
      "100%|██████████| 10000/10000 [00:01<00:00, 5283.51it/s]\n",
      "100%|██████████| 10000/10000 [00:01<00:00, 8159.99it/s]\n"
     ]
    },
    {
     "name": "stdout",
     "output_type": "stream",
     "text": [
      "P = [[1.]]\n",
      "M0 = [[-0.0625]]\n",
      "Q0 = [[1.]]\n"
     ]
    },
    {
     "name": "stderr",
     "output_type": "stream",
     "text": [
      "100%|██████████| 10000/10000 [00:01<00:00, 5378.42it/s]\n",
      "100%|██████████| 10000/10000 [00:01<00:00, 8148.79it/s]\n"
     ]
    },
    {
     "name": "stdout",
     "output_type": "stream",
     "text": [
      "P = [[1.]]\n",
      "M0 = [[-0.0625]]\n",
      "Q0 = [[1.]]\n"
     ]
    },
    {
     "name": "stderr",
     "output_type": "stream",
     "text": [
      "100%|██████████| 10000/10000 [00:01<00:00, 5359.46it/s]\n",
      "100%|██████████| 10000/10000 [00:01<00:00, 8148.14it/s]\n"
     ]
    },
    {
     "name": "stdout",
     "output_type": "stream",
     "text": [
      "P = [[1.]]\n",
      "M0 = [[0.0625]]\n",
      "Q0 = [[1.]]\n"
     ]
    },
    {
     "name": "stderr",
     "output_type": "stream",
     "text": [
      "100%|██████████| 10000/10000 [00:01<00:00, 5371.37it/s]\n",
      "100%|██████████| 10000/10000 [00:01<00:00, 8170.74it/s]\n"
     ]
    },
    {
     "name": "stdout",
     "output_type": "stream",
     "text": [
      "P = [[1.]]\n",
      "M0 = [[-0.0625]]\n",
      "Q0 = [[1.]]\n"
     ]
    },
    {
     "name": "stderr",
     "output_type": "stream",
     "text": [
      "100%|██████████| 10000/10000 [00:01<00:00, 5385.97it/s]\n",
      "100%|██████████| 10000/10000 [00:01<00:00, 8168.47it/s]\n"
     ]
    },
    {
     "name": "stdout",
     "output_type": "stream",
     "text": [
      "P = [[1.]]\n",
      "M0 = [[-0.0625]]\n",
      "Q0 = [[1.]]\n"
     ]
    },
    {
     "name": "stderr",
     "output_type": "stream",
     "text": [
      "100%|██████████| 10000/10000 [00:01<00:00, 5380.41it/s]\n",
      "100%|██████████| 10000/10000 [00:01<00:00, 8128.03it/s]\n"
     ]
    },
    {
     "name": "stdout",
     "output_type": "stream",
     "text": [
      "P = [[1.]]\n",
      "M0 = [[-0.0625]]\n",
      "Q0 = [[1.]]\n"
     ]
    },
    {
     "name": "stderr",
     "output_type": "stream",
     "text": [
      "100%|██████████| 10000/10000 [00:01<00:00, 5398.06it/s]\n",
      "100%|██████████| 10000/10000 [00:01<00:00, 8188.85it/s]\n"
     ]
    },
    {
     "name": "stdout",
     "output_type": "stream",
     "text": [
      "P = [[1.]]\n",
      "M0 = [[-0.0625]]\n",
      "Q0 = [[1.]]\n"
     ]
    },
    {
     "name": "stderr",
     "output_type": "stream",
     "text": [
      "100%|██████████| 10000/10000 [00:01<00:00, 5379.57it/s]\n",
      "100%|██████████| 10000/10000 [00:01<00:00, 7750.51it/s]\n"
     ]
    },
    {
     "name": "stdout",
     "output_type": "stream",
     "text": [
      "P = [[1.]]\n",
      "M0 = [[0.04419417]]\n",
      "Q0 = [[1.]]\n"
     ]
    },
    {
     "name": "stderr",
     "output_type": "stream",
     "text": [
      "100%|██████████| 10000/10000 [00:03<00:00, 2964.89it/s]\n",
      "100%|██████████| 10000/10000 [00:02<00:00, 4498.94it/s]\n"
     ]
    },
    {
     "name": "stdout",
     "output_type": "stream",
     "text": [
      "P = [[1.]]\n",
      "M0 = [[0.04419417]]\n",
      "Q0 = [[1.]]\n"
     ]
    },
    {
     "name": "stderr",
     "output_type": "stream",
     "text": [
      "100%|██████████| 10000/10000 [00:03<00:00, 3237.58it/s]\n",
      "100%|██████████| 10000/10000 [00:02<00:00, 4601.43it/s]\n"
     ]
    },
    {
     "name": "stdout",
     "output_type": "stream",
     "text": [
      "P = [[1.]]\n",
      "M0 = [[-0.04419417]]\n",
      "Q0 = [[1.]]\n"
     ]
    },
    {
     "name": "stderr",
     "output_type": "stream",
     "text": [
      "100%|██████████| 10000/10000 [00:03<00:00, 3236.70it/s]\n",
      "100%|██████████| 10000/10000 [00:02<00:00, 4442.11it/s]\n"
     ]
    },
    {
     "name": "stdout",
     "output_type": "stream",
     "text": [
      "P = [[1.]]\n",
      "M0 = [[0.04419417]]\n",
      "Q0 = [[1.]]\n"
     ]
    },
    {
     "name": "stderr",
     "output_type": "stream",
     "text": [
      "100%|██████████| 10000/10000 [00:03<00:00, 3147.81it/s]\n",
      "100%|██████████| 10000/10000 [00:02<00:00, 4520.89it/s]\n"
     ]
    },
    {
     "name": "stdout",
     "output_type": "stream",
     "text": [
      "P = [[1.]]\n",
      "M0 = [[0.04419417]]\n",
      "Q0 = [[1.]]\n"
     ]
    },
    {
     "name": "stderr",
     "output_type": "stream",
     "text": [
      "100%|██████████| 10000/10000 [00:03<00:00, 3110.23it/s]\n",
      "100%|██████████| 10000/10000 [00:02<00:00, 4486.22it/s]\n"
     ]
    },
    {
     "name": "stdout",
     "output_type": "stream",
     "text": [
      "P = [[1.]]\n",
      "M0 = [[-0.04419417]]\n",
      "Q0 = [[1.]]\n"
     ]
    },
    {
     "name": "stderr",
     "output_type": "stream",
     "text": [
      "100%|██████████| 10000/10000 [00:03<00:00, 3044.08it/s]\n",
      "100%|██████████| 10000/10000 [00:02<00:00, 4478.64it/s]\n"
     ]
    },
    {
     "name": "stdout",
     "output_type": "stream",
     "text": [
      "P = [[1.]]\n",
      "M0 = [[0.04419417]]\n",
      "Q0 = [[1.]]\n"
     ]
    },
    {
     "name": "stderr",
     "output_type": "stream",
     "text": [
      "100%|██████████| 10000/10000 [00:03<00:00, 3166.99it/s]\n",
      "100%|██████████| 10000/10000 [00:02<00:00, 4571.97it/s]\n"
     ]
    },
    {
     "name": "stdout",
     "output_type": "stream",
     "text": [
      "P = [[1.]]\n",
      "M0 = [[0.04419417]]\n",
      "Q0 = [[1.]]\n"
     ]
    },
    {
     "name": "stderr",
     "output_type": "stream",
     "text": [
      "100%|██████████| 10000/10000 [00:03<00:00, 3175.77it/s]\n",
      "100%|██████████| 10000/10000 [00:02<00:00, 4606.17it/s]\n"
     ]
    },
    {
     "name": "stdout",
     "output_type": "stream",
     "text": [
      "P = [[1.]]\n",
      "M0 = [[0.04419417]]\n",
      "Q0 = [[1.]]\n"
     ]
    },
    {
     "name": "stderr",
     "output_type": "stream",
     "text": [
      "100%|██████████| 10000/10000 [00:03<00:00, 3252.37it/s]\n",
      "100%|██████████| 10000/10000 [00:02<00:00, 4598.01it/s]\n"
     ]
    },
    {
     "name": "stdout",
     "output_type": "stream",
     "text": [
      "P = [[1.]]\n",
      "M0 = [[-0.04419417]]\n",
      "Q0 = [[1.]]\n"
     ]
    },
    {
     "name": "stderr",
     "output_type": "stream",
     "text": [
      "100%|██████████| 10000/10000 [00:03<00:00, 3267.25it/s]\n",
      "100%|██████████| 10000/10000 [00:02<00:00, 4596.83it/s]\n"
     ]
    },
    {
     "name": "stdout",
     "output_type": "stream",
     "text": [
      "P = [[1.]]\n",
      "M0 = [[-0.04419417]]\n",
      "Q0 = [[1.]]\n"
     ]
    },
    {
     "name": "stderr",
     "output_type": "stream",
     "text": [
      "100%|██████████| 10000/10000 [00:03<00:00, 3233.55it/s]\n",
      "100%|██████████| 10000/10000 [00:02<00:00, 4603.91it/s]\n"
     ]
    },
    {
     "name": "stdout",
     "output_type": "stream",
     "text": [
      "P = [[1.]]\n",
      "M0 = [[0.04419417]]\n",
      "Q0 = [[1.]]\n"
     ]
    },
    {
     "name": "stderr",
     "output_type": "stream",
     "text": [
      "100%|██████████| 10000/10000 [00:03<00:00, 3267.90it/s]\n",
      "100%|██████████| 10000/10000 [00:02<00:00, 4528.36it/s]\n"
     ]
    },
    {
     "name": "stdout",
     "output_type": "stream",
     "text": [
      "P = [[1.]]\n",
      "M0 = [[0.04419417]]\n",
      "Q0 = [[1.]]\n"
     ]
    },
    {
     "name": "stderr",
     "output_type": "stream",
     "text": [
      "100%|██████████| 10000/10000 [00:03<00:00, 3270.51it/s]\n",
      "100%|██████████| 10000/10000 [00:02<00:00, 4597.21it/s]\n"
     ]
    },
    {
     "name": "stdout",
     "output_type": "stream",
     "text": [
      "P = [[1.]]\n",
      "M0 = [[0.04419417]]\n",
      "Q0 = [[1.]]\n"
     ]
    },
    {
     "name": "stderr",
     "output_type": "stream",
     "text": [
      "100%|██████████| 10000/10000 [00:03<00:00, 3233.56it/s]\n",
      "100%|██████████| 10000/10000 [00:02<00:00, 4586.87it/s]\n"
     ]
    },
    {
     "name": "stdout",
     "output_type": "stream",
     "text": [
      "P = [[1.]]\n",
      "M0 = [[-0.04419417]]\n",
      "Q0 = [[1.]]\n"
     ]
    },
    {
     "name": "stderr",
     "output_type": "stream",
     "text": [
      "100%|██████████| 10000/10000 [00:03<00:00, 3272.38it/s]\n",
      "100%|██████████| 10000/10000 [00:02<00:00, 4524.81it/s]\n"
     ]
    },
    {
     "name": "stdout",
     "output_type": "stream",
     "text": [
      "P = [[1.]]\n",
      "M0 = [[-0.04419417]]\n",
      "Q0 = [[1.]]\n"
     ]
    },
    {
     "name": "stderr",
     "output_type": "stream",
     "text": [
      "100%|██████████| 10000/10000 [00:03<00:00, 3276.11it/s]\n",
      "100%|██████████| 10000/10000 [00:02<00:00, 4604.54it/s]\n"
     ]
    },
    {
     "name": "stdout",
     "output_type": "stream",
     "text": [
      "P = [[1.]]\n",
      "M0 = [[0.04419417]]\n",
      "Q0 = [[1.]]\n"
     ]
    },
    {
     "name": "stderr",
     "output_type": "stream",
     "text": [
      "100%|██████████| 10000/10000 [00:03<00:00, 3239.70it/s]\n",
      "100%|██████████| 10000/10000 [00:02<00:00, 4600.76it/s]\n"
     ]
    },
    {
     "name": "stdout",
     "output_type": "stream",
     "text": [
      "P = [[1.]]\n",
      "M0 = [[-0.04419417]]\n",
      "Q0 = [[1.]]\n"
     ]
    },
    {
     "name": "stderr",
     "output_type": "stream",
     "text": [
      "100%|██████████| 10000/10000 [00:03<00:00, 3191.98it/s]\n",
      "100%|██████████| 10000/10000 [00:02<00:00, 4680.14it/s]\n"
     ]
    },
    {
     "name": "stdout",
     "output_type": "stream",
     "text": [
      "P = [[1.]]\n",
      "M0 = [[-0.04419417]]\n",
      "Q0 = [[1.]]\n"
     ]
    },
    {
     "name": "stderr",
     "output_type": "stream",
     "text": [
      "100%|██████████| 10000/10000 [00:03<00:00, 3304.09it/s]\n",
      "100%|██████████| 10000/10000 [00:02<00:00, 4672.45it/s]\n"
     ]
    },
    {
     "name": "stdout",
     "output_type": "stream",
     "text": [
      "P = [[1.]]\n",
      "M0 = [[-0.04419417]]\n",
      "Q0 = [[1.]]\n"
     ]
    },
    {
     "name": "stderr",
     "output_type": "stream",
     "text": [
      "100%|██████████| 10000/10000 [00:03<00:00, 3329.48it/s]\n",
      "100%|██████████| 10000/10000 [00:02<00:00, 4641.68it/s]\n"
     ]
    }
   ],
   "source": [
    "from giant_learning.poly_poly import SphericalH3H3Overlaps\n",
    "from giant_learning.gradient_descent import SphericalGradientDescent\n",
    "\n",
    "import numpy as np\n",
    "from sklearn.preprocessing import normalize\n",
    "from scipy.linalg import orth\n",
    "\n",
    "p = 1\n",
    "k = 1\n",
    "ds = np.array([128,256,512])\n",
    "T = 5000\n",
    "# T = 3\n",
    "noise = 1e-6\n",
    "ts = 1./np.sqrt(ds)  \n",
    "seeds = 10\n",
    "npower = 3/2\n",
    "\n",
    "target = SphericalH3H3Overlaps._target\n",
    "activation = SphericalH3H3Overlaps._activation\n",
    "activation_derivative = SphericalH3H3Overlaps._activation_derivative\n",
    "\n",
    "\n",
    "sim_plainsgd_test_errors = np.zeros((len(ds),seeds,T+1))\n",
    "sim_correlationsgd_test_errors = np.zeros((len(ds),seeds,T+1))\n",
    "sim_adaptivesgd_test_errors = np.zeros((len(ds),seeds,T+1))\n",
    "theo_plainsgd_test_errors = np.zeros((len(ds),seeds,T+1))\n",
    "theo_correlationsgd_test_errors = np.zeros((len(ds),seeds,T+1))\n",
    "theo_adaptivesgd_test_errors = np.zeros((len(ds),seeds,T+1))\n",
    "\n",
    "for i,d,t in zip(range(len(ds)),ds,ts):\n",
    "    for seed in range(seeds):\n",
    "        n = int(d**npower)\n",
    "        gamma = .05*n*np.power(d,-3/2)\n",
    "        ## Initial conditions\n",
    "        rng = np.random.default_rng(seed^d)\n",
    "        Wtarget = orth((normalize(rng.normal(size=(k,d)), axis=1, norm='l2')).T).T\n",
    "        Wtild = normalize(rng.normal(size=(p,d)), axis=1, norm='l2')\n",
    "        Wtild_target = np.einsum('ji,ri,rh->jh', Wtild , Wtarget ,Wtarget)\n",
    "        W0_orth =  normalize(Wtild - Wtild_target, axis=1, norm='l2')\n",
    "        W0 = (t*normalize(Wtild_target,norm='l2',axis=1) + np.sqrt(1-t**2)*W0_orth)\n",
    "        \n",
    "\n",
    "        P = Wtarget @ Wtarget.T\n",
    "        M0 = W0 @ Wtarget.T\n",
    "        Q0 = W0 @ W0.T\n",
    "\n",
    "        print(f'P = {P}')\n",
    "        print(f'M0 = {M0}')\n",
    "        print(f'Q0 = {Q0}')\n",
    "        a0 = np.sign(M0[0][0])*np.ones(p) ### It is changed with the new version of the package. The 1/p is included in giant-learning ###\n",
    "\n",
    "        gd_plain = SphericalGradientDescent(\n",
    "            target, Wtarget, n,\n",
    "            activation, W0, a0, activation_derivative,\n",
    "            gamma, noise, predictor_interaction=True,\n",
    "            test_size = None, analytical_error= 'H3H3'\n",
    "        )\n",
    "\n",
    "        gd_corr = SphericalGradientDescent(\n",
    "            target, Wtarget, n,\n",
    "            activation, W0, a0, activation_derivative,\n",
    "            gamma, noise, predictor_interaction=False,\n",
    "            test_size = None, analytical_error= 'H3H3',\n",
    "        )\n",
    "\n",
    "        gd_plain.train(T, verbose = True)\n",
    "        gd_corr.train(T, verbose = True)\n",
    "\n",
    "        sim_plainsgd_test_errors[i,seed,:] = np.array(gd_plain.test_errors)\n",
    "        sim_correlationsgd_test_errors[i,seed,:] = np.array(gd_corr.test_errors)\n",
    "\n",
    "\n",
    "np.savez(f'simulations_T{T}_n{npower}_seeds{seeds}.npz', sim_plainsgd_test_errors = sim_plainsgd_test_errors, sim_correlationsgd_test_errors = sim_correlationsgd_test_errors, ds = ds, T = T, seeds = seeds, ts = ts, noise = noise, p = p, k = k)\n",
    "\n",
    "\n",
    "\n",
    "\n"
   ]
  },
  {
   "cell_type": "code",
   "execution_count": 22,
   "metadata": {},
   "outputs": [
    {
     "data": {
      "image/png": "[encoded data removed]",
      "text/plain": [
       "<Figure size 800x800 with 1 Axes>"
      ]
     },
     "metadata": {},
     "output_type": "display_data"
    }
   ],
   "source": [
    "fig, ax = plt.subplots(1,1,figsize=(8,8))\n",
    "\n",
    "for i,d in zip(range(len(ds)),ds):\n",
    "    # ax.plot(sim_adaptivesgd_test_errors/R0, label=f'Adaptive SGD', marker='', ls='-', color='green')\n",
    "    cl = ax.plot(np.arange(T+1)/np.sqrt(d),np.mean(sim_correlationsgd_test_errors[i], axis =0), label=f'Correlation Loss SGD d={d}', marker='', ls='-')\n",
    "    ax.plot(np.arange(T+1)/np.sqrt(d),np.mean(sim_plainsgd_test_errors[i], axis =0), label=f'SGD d={d}', marker='', ls='-.')\n",
    "\n",
    "# ax.plot(theo_adaptivesgd_test_errors, label=f'Adaptive SGD Theory', marker='', linestyle='-', color='green')\n",
    "# ax.plot(theo_correlationsgd_test_errors, label=f'Correlation Loss SGD Theory', marker='', linestyle='-', color='blue')\n",
    "# ax.plot(theo_plainsgd_test_errors, label=f'SGD Theory', marker='', linestyle='-', color='red')\n",
    "\n",
    "ax.set_xscale('log')\n",
    "# ax.set_yscale('log')\n",
    "ax.set_xlabel('Steps/$\\sqrt{d}$')\n",
    "ax.set_ylabel('Test error')\n",
    "# ax.set_xlim([0,110])\n",
    "# ax.set_ylim([2,5])\n",
    "ax.legend(fontsize=8, loc='lower left')\n",
    "\n",
    "plt.savefig('figures/different_SGDs.pdf', bbox_inches = 'tight')\n",
    "\n"
   ]
  }
 ],
 "metadata": {
  "kernelspec": {
   "display_name": "venv",
   "language": "python",
   "name": "python3"
  },
  "language_info": {
   "codemirror_mode": {
    "name": "ipython",
    "version": 3
   },
   "file_extension": ".py",
   "mimetype": "text/x-python",
   "name": "python",
   "nbconvert_exporter": "python",
   "pygments_lexer": "ipython3",
   "version": "3.11.7"
  }
 },
 "nbformat": 4,
 "nbformat_minor": 2
}
