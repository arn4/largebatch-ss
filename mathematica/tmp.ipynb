{
 "cells": [
  {
   "cell_type": "code",
   "execution_count": null,
   "metadata": {
    "vscode": {
     "languageId": "python"
    }
   },
   "outputs": [],
   "source": []
  }
 ],
 "metadata": {
  "kernelspec": {
   "display_name": "Wolfram Language 13.2",
   "language": "Wolfram Language",
   "name": "wolframlanguage13.2"
  },
  "language_info": {
   "name": "Wolfram Language"
  }
 },
 "nbformat": 4,
 "nbformat_minor": 2
}
